{
 "cells": [
  {
   "cell_type": "raw",
   "metadata": {
    "vscode": {
     "languageId": "raw"
    }
   },
   "source": [
    "---\n",
    "title: \"ggpubr로 논문에 사용할 플랏그리기\"\n",
    "author: \"Taeyoon Kim\"\n",
    "categories: [R, Data science, Bioinformatics, Visualization]\n",
    "draft: false\n",
    "date: \"2023-03-01\"\n",
    "date-modified: last-modified\n",
    "---"
   ]
  },
  {
   "cell_type": "markdown",
   "metadata": {},
   "source": [
    "\n",
    "\n",
    "# 0. ggpubr\n",
    "\n",
    "모든 내용은 [공식문서](http://www.sthda.com/english/rpkgs/ggpubr)에서 간추린 것입니다. 자세한것은 공식문서를 읽어주세요.\n",
    "\n",
    "`ggpubr`은 ggplot2에 기반한 R 패키지입니다. 연구자들이 쉽게 높은 질의 도표를 그리는 것을 목표로 하고 있는 시각화 패키지죠. 주요 특징은 다음과 같습니다:\n",
    "\n",
    "- `ggplot2` 패키지를 기반으로해서 좀 더 명확한 문법으로 보다 쉽게 사용할 수 있습니다.\n",
    "- R 언어를 잘 모르더라도 높은 질의 도표를 만들수 있습니다.\n",
    "- 자동으로 p-values 나 통계적 유의성을 표시할 할 수 있습니다. \n",
    "- 여러 도표를 한 페이지에 배열 할 수 있는 기능을 가지고 있습니다.\n",
    "- 레이블이나 색상을 쉽게 변경할 수 있습니다.\n",
    "\n",
    "먼저 `ggpubr` 로 시각화를 하는 간단한 방법을 살펴보고, 이후에 다양한 예시 도표를 보여드리겠습니다. "
   ]
  },
  {
   "cell_type": "markdown",
   "metadata": {},
   "source": [
    "# 1. ggpubr 설치하기:\n",
    "**CRAN** 을 통한 설치법은 아래와 같습니다. \n",
    "\n",
    "```R\n",
    "install.packages(\"ggpubr\")\n",
    "```\n",
    "\n",
    "# 2. ggpubr 불러오기:\n",
    "\n",
    "```R\n",
    "library(\"ggpubr\")\n",
    "```\n",
    "\n",
    "# 3. ggpubr로 도표 그리기\n",
    "\n",
    "간단한 예시를 들어 시각화 방법을 살펴보겠습니다.\n",
    "1. 대이터 불러와서 전처리하기\n",
    "2. 시각화하고 설정하기\n",
    "\n",
    "## 3.1. 데이터 불러오기"
   ]
  },
  {
   "cell_type": "code",
   "execution_count": null,
   "metadata": {
    "vscode": {
     "languageId": "r"
    }
   },
   "outputs": [],
   "source": [
    "# 필요한  패키지 불러오기\n",
    "# suppressPackageStartupMessages(library(tidyverse))\n",
    "library(\"dplyr\") \n",
    "library(\"ggpubr\")\n",
    "options(warn=-1) # 경고메세지 무시하기\n",
    "\n",
    "data(\"ToothGrowth\") # 예제 데이터 불러오기\n",
    "head(ToothGrowth,4) # 데이터 테이블 확인"
   ]
  },
  {
   "cell_type": "markdown",
   "metadata": {},
   "source": [
    "## 3.2. 시각화 설정하기"
   ]
  },
  {
   "cell_type": "code",
   "execution_count": null,
   "metadata": {
    "vscode": {
     "languageId": "r"
    }
   },
   "outputs": [],
   "source": [
    "options(repr.plot.width = 6, repr.plot.height = 4)\n",
    "\n",
    "ggline(ToothGrowth, x = \"dose\", y = \"len\", add = \"mean_se\", # 각각의 축설정 \n",
    "      color = \"supp\", palette = \"npg\")+  # 색상 설정하기\n",
    "      stat_compare_means(aes(group = supp), label = \"p.signif\", label.y = c(16, 25, 29)) + # 통계적 유의성 표시\n",
    "      labs(list(x = 'Dose', y = 'Length', fill = 'Supp')) # 레이블 변경"
   ]
  },
  {
   "cell_type": "markdown",
   "metadata": {},
   "source": [
    "## 3.3. 한페이지에 여러 도표 넣기\n",
    "\n",
    "여러 도표를 한페이지에 넣는 기능은 `ggarrange()`입니다. `cowplot`의 ` plot_grid()`함수에 기반하고 있죠. 그래서 사용법도 동일합니다.  아래의 예시 코드를 확인하세요.\n",
    "\n",
    "```R\n",
    "ggarrange(a, b, c ,  \n",
    "          labels = c(\"A\", \"B\", \"C\"),\n",
    "          ncol = 2, nrow = 2)\n",
    "```\n"
   ]
  },
  {
   "cell_type": "markdown",
   "metadata": {},
   "source": [
    "# 4. 다양한 ggpubr 예시  \n",
    "\n",
    "아래에는 많이 사용되는 도표의 예시를 제공하고 있습니다. 필요한 것이 있는지 살펴보세요.\n",
    "\n",
    "## 4.1. 분포(Distribution) 시각화"
   ]
  },
  {
   "cell_type": "code",
   "execution_count": null,
   "metadata": {
    "vscode": {
     "languageId": "r"
    }
   },
   "outputs": [],
   "source": [
    "# 예제 데이터 만들기\n",
    "set.seed(1234)\n",
    "wdata = data.frame(\n",
    "   sex = factor(rep(c(\"F\", \"M\"), each=200)),\n",
    "   weight = c(rnorm(200, 55), rnorm(200, 58)))\n",
    "head(wdata, 4)"
   ]
  },
  {
   "cell_type": "code",
   "execution_count": null,
   "metadata": {
    "vscode": {
     "languageId": "r"
    }
   },
   "outputs": [],
   "source": [
    "a1 <- ggdensity(wdata, x = \"weight\",\n",
    "   add = \"mean\", rug = TRUE, # Density plot with mean lines and marginal rug\n",
    "   color = \"sex\", fill = \"sex\",  # Change outline and fill colors by groups (\"sex\")\n",
    "   palette = c(\"#00AFBB\", \"#E7B800\")) # Use custom palette\n",
    "\n",
    "a2 <- gghistogram(wdata, x = \"weight\",\n",
    "   add = \"mean\", rug = TRUE,\n",
    "   color = \"sex\", fill = \"sex\",\n",
    "   palette = c(\"#00AFBB\", \"#E7B800\"))\n",
    "\n",
    "a3 <- ggdensity(wdata, x = \"weight\",\n",
    "   add = \"mean\", rug = TRUE,\n",
    "   fill = \"lightgray\")\n",
    "\n",
    "# Combine histogram and density plots\n",
    "a4 <-  gghistogram(wdata, x = \"weight\",\n",
    "   add = \"mean\", rug = FALSE,\n",
    "   fill = \"sex\", palette = c(\"#00AFBB\", \"#E7B800\"),\n",
    "   add_density = TRUE)\n",
    "\n",
    "# 한페이지에 넣기\n",
    "ggarrange(a1, a2, a3 , a4,\n",
    "          labels = c(\"A\", \"B\", \"C\", \"D\"),\n",
    "          ncol = 2, nrow = 2)"
   ]
  },
  {
   "cell_type": "markdown",
   "metadata": {},
   "source": [
    "# 4.2. 박스 그래프(Box plots), 바이올린(violin plots) 그래프"
   ]
  },
  {
   "cell_type": "code",
   "execution_count": null,
   "metadata": {
    "vscode": {
     "languageId": "r"
    }
   },
   "outputs": [],
   "source": [
    "# Load data\n",
    "data(\"ToothGrowth\")\n",
    "df <- ToothGrowth\n",
    "head(df, 4)"
   ]
  },
  {
   "cell_type": "code",
   "execution_count": null,
   "metadata": {
    "vscode": {
     "languageId": "r"
    }
   },
   "outputs": [],
   "source": [
    "# Box plots with jittered points\n",
    "p1 <- ggboxplot(df, x = \"dose\", y = \"len\",\n",
    "        color = \"dose\", palette =c(\"#00AFBB\", \"#E7B800\", \"#FC4E07\"),\n",
    "        add = \"jitter\", shape = \"dose\")\n",
    "\n",
    "# Add p-values comparing groups\n",
    "my_comparisons <- list( c(\"0.5\", \"1\"), c(\"1\", \"2\"), c(\"0.5\", \"2\") )\n",
    "p2 <- p1 + stat_compare_means(comparisons = my_comparisons)+ # Add pairwise comparisons p-value\n",
    "        stat_compare_means(label.y = 50)                   # Add global p-value\n",
    "\n",
    "# Violin plots with box plots inside\n",
    "p3 <- ggviolin(df, x = \"dose\", y = \"len\", fill = \"dose\",\n",
    "         palette = c(\"#00AFBB\", \"#E7B800\", \"#FC4E07\"),\n",
    "         add = \"boxplot\", add.params = list(fill = \"white\"))+\n",
    "         stat_compare_means(comparisons = my_comparisons, label = \"p.signif\")+ # Add significance levels\n",
    "         stat_compare_means(label.y = 50)        # Add global the p-value \n",
    "\n",
    "ggarrange(p1, p2, p3,\n",
    "          labels = c(\"A\", \"B\", \"C\"),\n",
    "          ncol = 2, nrow = 2)"
   ]
  },
  {
   "cell_type": "markdown",
   "metadata": {},
   "source": [
    "## 4.3. 막대 그래프(Bar plots)\n",
    "### 4.3.1 간단한 막대 그래프"
   ]
  },
  {
   "cell_type": "code",
   "execution_count": null,
   "metadata": {
    "vscode": {
     "languageId": "r"
    }
   },
   "outputs": [],
   "source": [
    "# example Data\n",
    "df <- data.frame(dose=c(\"D0.5\", \"D1\", \"D2\"),\n",
    "   len=c(4.2, 10, 29.5))\n",
    "df2 <- data.frame(supp=rep(c(\"VC\", \"OJ\"), each=3),\n",
    "   dose=rep(c(\"D0.5\", \"D1\", \"D2\"),2),\n",
    "   len=c(6.8, 15, 33, 4.2, 10, 29.5))\n",
    "df3 <- ToothGrowth\n",
    "\n",
    "# Change position: Interleaved (dodged) bar plot\n",
    "p1 <- ggbarplot(df2, \"dose\", \"len\",\n",
    "        fill = \"supp\", color = \"supp\", palette = \"Paired\",\n",
    "        position = position_dodge(0.8))\n",
    "\n",
    "# Change fill and outline color add labels inside bars\n",
    "p2 <- ggbarplot(df, \"dose\", \"len\",\n",
    "        fill = \"dose\", color = \"dose\",\n",
    "        palette = c(\"#00AFBB\", \"#E7B800\", \"#FC4E07\"),\n",
    "        label = TRUE, lab.pos = \"in\", lab.col = \"white\")\n",
    "\n",
    "# Add jitter points and errors (mean_se)\n",
    "p3 <- ggbarplot(df3, x = \"dose\", y = \"len\",\n",
    "        add = c(\"mean_se\", \"jitter\"))\n",
    "\n",
    "# Multiple groups with error bars and jitter point\n",
    "p4 <- ggbarplot(df3, x = \"dose\", y = \"len\", color = \"supp\",\n",
    "         add = \"mean_se\", palette = c(\"#00AFBB\", \"#E7B800\"),\n",
    "         position = position_dodge(0.8))\n",
    "\n",
    "ggarrange(p1, p2, p3, p4,\n",
    "          labels = c(\"A\", \"B\", \"C\", \"D\"),\n",
    "          ncol = 2, nrow = 2)"
   ]
  },
  {
   "cell_type": "markdown",
   "metadata": {},
   "source": [
    "### 4.3.2 정돈된(Ordered) 바 그래프\n",
    "\n",
    "**cyl**에 따라서 그룹화하고, 전체적으로 정렬한 그래프(A)와 그룹별로 정렬한 그래프(B)의 시각화입니다. "
   ]
  },
  {
   "cell_type": "code",
   "execution_count": null,
   "metadata": {
    "vscode": {
     "languageId": "r"
    }
   },
   "outputs": [],
   "source": [
    "# 샘플 데이터 불러오기\n",
    "data(\"mtcars\")\n",
    "dfm <- mtcars\n",
    "dfm$cyl <- as.factor(dfm$cyl) # Convert the cyl variable to a factor\n",
    "dfm$name <- rownames(dfm) # Add the name colums\n",
    "head(dfm[, c(\"name\", \"wt\", \"mpg\", \"cyl\")]) # 데이터 살펴보기"
   ]
  },
  {
   "cell_type": "code",
   "execution_count": null,
   "metadata": {
    "vscode": {
     "languageId": "r"
    }
   },
   "outputs": [],
   "source": [
    "a1 <- ggbarplot(dfm, x = \"name\", y = \"mpg\",\n",
    "          fill = \"cyl\",               # change fill color by cyl\n",
    "          color = \"white\",            # Set bar border colors to white\n",
    "          palette = \"jco\",            # jco journal color palett. see ?ggpar\n",
    "          sort.val = \"desc\",          # Sort the value in dscending order\n",
    "          sort.by.groups = FALSE,     # Don't sort inside each group\n",
    "          x.text.angle = 90)           # Rotate vertically x axis texts\n",
    "\n",
    "a2 <- ggbarplot(dfm, x = \"name\", y = \"mpg\",\n",
    "          fill = \"cyl\",               # change fill color by cyl\n",
    "          color = \"white\",            # Set bar border colors to white\n",
    "          palette = \"jco\",            # jco journal color palett. see ?ggpar\n",
    "          sort.val = \"asc\",           # Sort the value in dscending order\n",
    "          sort.by.groups = TRUE,      # Sort inside each group\n",
    "          x.text.angle = 90)           # Rotate vertically x axis texts\n",
    "\n",
    "ggarrange(a1, a2,\n",
    "          labels = c(\"A\", \"B\"),\n",
    "          ncol = 1, nrow = 2)"
   ]
  },
  {
   "cell_type": "markdown",
   "metadata": {},
   "source": [
    "### 4.3.3. 편차(Deviation) 그래프\n",
    "\n",
    "편차(deviation) 그래프는 각각의 값들이 평균값 대비 얼마나 차이가 나는지를 시각화 합니다. 여기서는 연비 평균값에 비교해서 각 차량의 편차가 얼마인지 계산해(Z-score) 도표를 그려보겠습니다. "
   ]
  },
  {
   "cell_type": "code",
   "execution_count": null,
   "metadata": {
    "vscode": {
     "languageId": "r"
    }
   },
   "outputs": [],
   "source": [
    "# Calculate the z-score of the mpg data\n",
    "dfm$mpg_z <- (dfm$mpg -mean(dfm$mpg))/sd(dfm$mpg)\n",
    "dfm$mpg_grp <- factor(ifelse(dfm$mpg_z < 0, \"low\", \"high\"), \n",
    "                     levels = c(\"low\", \"high\"))\n",
    "# Inspect the data\n",
    "head(dfm[, c(\"name\", \"wt\", \"mpg\", \"mpg_z\", \"mpg_grp\", \"cyl\")])"
   ]
  },
  {
   "cell_type": "code",
   "execution_count": null,
   "metadata": {
    "vscode": {
     "languageId": "r"
    }
   },
   "outputs": [],
   "source": [
    "# Create an ordered bar plot, colored according to the level of mpg:\n",
    "ggbarplot(dfm, x = \"name\", y = \"mpg_z\",\n",
    "          fill = \"mpg_grp\",           # change fill color by mpg_level\n",
    "          color = \"white\",            # Set bar border colors to white\n",
    "          palette = \"jco\",            # jco journal color palett. see ?ggpar\n",
    "          sort.val = \"desc\",          # Sort the value in descending order\n",
    "          sort.by.groups = FALSE,     # Don't sort inside each group\n",
    "          x.text.angle = 90,          # Rotate vertically x axis texts\n",
    "          ylab = \"MPG z-score\",\n",
    "          legend.title = \"MPG Group\",\n",
    "          rotate = TRUE,\n",
    "          ggtheme = theme_minimal())"
   ]
  },
  {
   "cell_type": "markdown",
   "metadata": {},
   "source": [
    "# 4.4 점 그래프(Dot plot)\n",
    "## 4.4.1 막대사탕(Lollipop) plot\n",
    "\n",
    "막대사탕 그래프는 많은 양의 데이터를 시각화하는데 적합합니다. 아래 예시에서는 **cyl** 그룹에 맞춰서 색상을 구분하였습니다. "
   ]
  },
  {
   "cell_type": "code",
   "execution_count": null,
   "metadata": {
    "vscode": {
     "languageId": "r"
    }
   },
   "outputs": [],
   "source": [
    "ggdotchart(dfm, x = \"name\", y = \"mpg\",\n",
    "           color = \"cyl\",                                # Color by groups\n",
    "           palette = c(\"#00AFBB\", \"#E7B800\", \"#FC4E07\"), # Custom color palette\n",
    "           sorting = \"descending\",                       # Sort value in descending order\n",
    "           add = \"segments\",                             # Add segments from y = 0 to dots\n",
    "           rotate = TRUE,                                # Rotate vertically\n",
    "           group = \"cyl\",                                # Order by groups\n",
    "           dot.size = 6,                                 # Large dot size\n",
    "           label = round(dfm$mpg),                        # Add mpg values as dot labels\n",
    "           font.label = list(color = \"white\", size = 9, \n",
    "           vjust = 0.5),               # Adjust label parameters\n",
    "           ggtheme = theme_pubr())                        # ggplot2 theme"
   ]
  },
  {
   "cell_type": "markdown",
   "metadata": {},
   "source": [
    "## 4.5. 도표에 설명(figure legend) 넣기\n",
    "\n",
    "도표 밑에 설명을 넣는 방법입니다. 한줄단위로 내용을 끊어서 작성해야, 산출물에서 줄이 잘 맞게 할 수 있습니다. \n",
    "아래의 예시 코드를 확인하세요.\n",
    "```r\n",
    "ggparagraph(text, color = NULL, size = NULL, face = NULL, family = NULL,\n",
    "  lineheight = NULL)\n",
    "# S3 method for splitText\n",
    "drawDetails(x, recording)\n",
    "```"
   ]
  },
  {
   "cell_type": "code",
   "execution_count": null,
   "metadata": {
    "vscode": {
     "languageId": "r"
    }
   },
   "outputs": [],
   "source": [
    "# Density plot\n",
    "density.p <- ggdensity(iris, x = \"Sepal.Length\",\n",
    "                      fill = \"Species\", palette = \"jco\")\n",
    "# Text plot\n",
    "text <- paste(\"Iris data set gives the measurements in cm\",\n",
    "             \"of the variables sepal length and width\",\n",
    "             \"and petal length and width, respectively,\",\n",
    "             \"for 50 flowers from each of 3 species of iris.\",\n",
    "             \"The species are Iris setosa, versicolor, and virginica.\", sep = \" \")\n",
    "text.p <- ggparagraph(text, face = \"italic\", size = 12)\n",
    "\n",
    "# Arrange the plots on the same page\n",
    "ggarrange(density.p, text.p,\n",
    "         ncol = 1, nrow = 2,\n",
    "         heights = c(1, 0.3))"
   ]
  },
  {
   "cell_type": "markdown",
   "metadata": {},
   "source": [
    "## 4.6. 선 그래프\n"
   ]
  },
  {
   "cell_type": "code",
   "execution_count": null,
   "metadata": {
    "vscode": {
     "languageId": "r"
    }
   },
   "outputs": [],
   "source": [
    "# Data: ToothGrowth data set we'll be used.\n",
    "df3 <- ToothGrowth\n",
    "# Add error bars: mean_se\n",
    "# (other values include: mean_sd, mean_ci, median_iqr, ....)\n",
    "# Add labels\n",
    "p1 <- ggline(df3, x = \"dose\", y = \"len\", add = \"mean_se\")\n",
    "# Add jitter points and errors (mean_se)\n",
    "p2 <- ggline(df3, x = \"dose\", y = \"len\",\n",
    " add = c(\"mean_se\",'jitter'))\n",
    "# Multiple groups with error bars\n",
    "p3 <- ggline(df3, x = \"dose\", y = \"len\", color = \"supp\",\n",
    " add = \"mean_se\", palette = c(\"#00AFBB\", \"#FC4E07\"))\n",
    "\n",
    "ggarrange(p1, p2, p3,\n",
    "          labels = c(\"A\", \"B\", \"C\"),\n",
    "          ncol = 2, nrow = 2)"
   ]
  },
  {
   "cell_type": "markdown",
   "metadata": {},
   "source": [
    "## 4.7. 히스토그램과 산포도(Scatter Plot with Histograms)\n",
    "\n",
    "히스토그램과 산포도를 하나의 도표에 합쳐서 그려보도록 하겠습니다."
   ]
  },
  {
   "cell_type": "code",
   "execution_count": null,
   "metadata": {
    "vscode": {
     "languageId": "r"
    }
   },
   "outputs": [],
   "source": [
    "# Grouped data\n",
    "ggscatterhist(\n",
    " iris, x = \"Sepal.Length\", y = \"Sepal.Width\",\n",
    " color = \"Species\", size = 3, alpha = 0.6,\n",
    " palette = c(\"#00AFBB\", \"#E7B800\", \"#FC4E07\"),\n",
    " margin.params = list(fill = \"Species\", color = \"black\", size = 0.2))"
   ]
  },
  {
   "cell_type": "markdown",
   "metadata": {},
   "source": [
    "## 4.8. 상관분석(Correlation Coefficients)과 P-values 추가하기\n",
    "\n",
    "산포도에 **상관분석**과 **p-values**를 추가하는 방법입니다."
   ]
  },
  {
   "cell_type": "code",
   "execution_count": null,
   "metadata": {
    "vscode": {
     "languageId": "r"
    }
   },
   "outputs": [],
   "source": [
    "# Load data\n",
    "data(\"mtcars\")\n",
    "df <- mtcars\n",
    "df$cyl <- as.factor(df$cyl)\n",
    "\n",
    "# Scatter plot with correlation coefficient\n",
    "sp <- ggscatter(df, x = \"wt\", y = \"mpg\",\n",
    "   add = \"reg.line\",  # Add regressin line\n",
    "   add.params = list(color = \"blue\", fill = \"lightgray\"), # Customize reg. line\n",
    "   conf.int = TRUE) # Add confidence interval\n",
    "# Add correlation coefficient\n",
    "p1 <- sp + stat_cor(method = \"pearson\", label.x = 3, label.y = 30)\n",
    "# Color by groups and facet\n",
    "sp <- ggscatter(df, x = \"wt\", y = \"mpg\",\n",
    "   color = \"cyl\", palette = \"jco\",\n",
    "   add = \"reg.line\", conf.int = TRUE)\n",
    "p2 <- sp + stat_cor(aes(color = cyl), label.x = 3)\n",
    "# Scatter plot with ellipses and group mean points\n",
    "p3 <- ggscatter(df, x = \"wt\", y = \"mpg\",\n",
    "   color = \"cyl\", shape = \"cyl\",\n",
    "   mean.point = TRUE, ellipse = TRUE)+\n",
    "   stat_stars(aes(color = cyl))\n",
    "\n",
    "ggarrange(p1, p2, p3,\n",
    "          labels = c(\"A\", \"B\", \"C\"),\n",
    "          ncol = 2, nrow = 2)"
   ]
  },
  {
   "cell_type": "markdown",
   "metadata": {},
   "source": [
    "## 4.9. Plot Paired Data"
   ]
  },
  {
   "cell_type": "code",
   "execution_count": null,
   "metadata": {
    "vscode": {
     "languageId": "r"
    }
   },
   "outputs": [],
   "source": [
    "# Example data\n",
    "before <-c(200.1, 190.9, 192.7, 213, 241.4, 196.9, 172.2, 185.5, 205.2, 193.7)\n",
    "after <-c(392.9, 393.2, 345.1, 393, 434, 427.9, 422, 383.9, 392.3, 352.2)\n",
    "\n",
    "d <- data.frame(before = before, after = after)\n",
    "p1 <- ggpaired(d, cond1 = \"before\", cond2 = \"after\", width = 0.0,\n",
    "    line.color = \"gray\", line.size = 0.4, palette = \"npg\")\n",
    "p2 <- ggpaired(d, cond1 = \"before\", cond2 = \"after\", width = 0.2,\n",
    "    line.color = \"gray\", line.size = 0.4, palette = \"aaas\")\n",
    "p3 <- ggpaired(d, cond1 = \"before\", cond2 = \"after\", width = 0.2,\n",
    "    line.color = \"gray\", line.size = 0.4, fill = \"condition\",palette = \"npg\")\n",
    "ggarrange(p1, p2, p3,\n",
    "          labels = c(\"A\", \"B\", \"C\"),\n",
    "          ncol = 2, nrow = 2)"
   ]
  },
  {
   "cell_type": "markdown",
   "metadata": {},
   "source": [
    "## 4.10.  P-values 를 박스 그래프에 추가하기\n"
   ]
  },
  {
   "cell_type": "code",
   "execution_count": null,
   "metadata": {
    "vscode": {
     "languageId": "r"
    }
   },
   "outputs": [],
   "source": [
    "# Load data\n",
    "data(\"ToothGrowth\")\n",
    "head(ToothGrowth)"
   ]
  },
  {
   "cell_type": "code",
   "execution_count": null,
   "metadata": {
    "vscode": {
     "languageId": "r"
    }
   },
   "outputs": [],
   "source": [
    "# Two independent groups\n",
    "p <- ggboxplot(ToothGrowth, x = \"supp\", y = \"len\",\n",
    "    color = \"supp\", palette = \"npg\", add = \"jitter\")\n",
    "\n",
    "#  Add p-value\n",
    "p1 <- p + stat_compare_means(method = \"t.test\")\n",
    "\n",
    "# Paired samples\n",
    "p2 <- ggpaired(ToothGrowth, x = \"supp\", y = \"len\",\n",
    "    color = \"supp\", line.color = \"gray\", line.size = 0.4,\n",
    "    palette = \"npg\")+\n",
    "    stat_compare_means(paired = TRUE, method = \"t.test\")\n",
    "\n",
    "# More than two groups, Pairwise comparisons: Specify the comparisons you want\n",
    "my_comparisons <- list( c(\"0.5\", \"1\"), c(\"1\", \"2\"), c(\"0.5\", \"2\") )\n",
    "p3 <- ggboxplot(ToothGrowth, x = \"dose\", y = \"len\",\n",
    "          color = \"dose\", palette = \"npg\")+\n",
    "# Add pairwise comparisons p-value\n",
    "    stat_compare_means(comparisons = my_comparisons, label.y = c(29, 35, 40))+\n",
    "    stat_compare_means(label.y = 45)     # Add global Anova p-value\n",
    "\n",
    "# Multiple pairwise test against a reference group\n",
    "p4 <- ggboxplot(ToothGrowth, x = \"dose\", y = \"len\",\n",
    "    color = \"dose\", palette = \"npg\")+\n",
    "    stat_compare_means(method = \"anova\", label.y = 40)+ # Add global p-value\n",
    "    stat_compare_means(aes(label = ..p.signif..),\n",
    "                      method = \"t.test\", ref.group = \"0.5\")\n",
    "\n",
    "ggarrange(p1, p2, p3, p4,  ncol = 2, nrow = 2,\n",
    "          labels = c(\"A\", \"B\",\"C\",\"D\"))"
   ]
  },
  {
   "cell_type": "code",
   "execution_count": null,
   "metadata": {
    "vscode": {
     "languageId": "r"
    }
   },
   "outputs": [],
   "source": [
    "# Multiple grouping variables\n",
    "p <- ggboxplot(ToothGrowth, x = \"supp\", y = \"len\",\n",
    "              color = \"supp\", palette = \"npg\",\n",
    "              add = \"jitter\",\n",
    "              facet.by = \"dose\", short.panel.labs = FALSE)\n",
    "# Use only p.format as label. Remove method name.\n",
    "p5 <- p + stat_compare_means(aes(label = paste0(\"p = \", ..p.format..)))\n",
    "p5"
   ]
  },
  {
   "cell_type": "markdown",
   "metadata": {},
   "source": [
    "# 5. 간단한 통계 분석\n",
    "위에서 사용한 `ToothGrowth` 데이터를 사용합니다."
   ]
  },
  {
   "cell_type": "code",
   "execution_count": null,
   "metadata": {
    "vscode": {
     "languageId": "r"
    }
   },
   "outputs": [],
   "source": [
    "# Load data\n",
    "data(\"ToothGrowth\")\n",
    "df <- ToothGrowth"
   ]
  },
  {
   "cell_type": "code",
   "execution_count": null,
   "metadata": {
    "vscode": {
     "languageId": "r"
    }
   },
   "outputs": [],
   "source": [
    "# One-sample test\n",
    "compare_means(len ~ 1, df, mu = 0)"
   ]
  },
  {
   "cell_type": "code",
   "execution_count": null,
   "metadata": {
    "vscode": {
     "languageId": "r"
    }
   },
   "outputs": [],
   "source": [
    "# Two-samples unpaired test\n",
    "compare_means(len ~ supp, df)"
   ]
  },
  {
   "cell_type": "code",
   "execution_count": null,
   "metadata": {
    "vscode": {
     "languageId": "r"
    }
   },
   "outputs": [],
   "source": [
    "# Two-samples paired test\n",
    "compare_means(len ~ supp, df, paired = TRUE)"
   ]
  },
  {
   "cell_type": "code",
   "execution_count": null,
   "metadata": {
    "vscode": {
     "languageId": "r"
    }
   },
   "outputs": [],
   "source": [
    "# Compare supp levels after grouping the data by \"dose\"\n",
    "compare_means(len ~ supp, df, group.by = \"dose\")"
   ]
  },
  {
   "cell_type": "code",
   "execution_count": null,
   "metadata": {
    "vscode": {
     "languageId": "r"
    }
   },
   "outputs": [],
   "source": [
    "# pairwise comparisons\n",
    "# As dose contains more thant two levels ==>\n",
    "# pairwise test is automatically performed.\n",
    "compare_means(len ~ dose, df)"
   ]
  },
  {
   "cell_type": "code",
   "execution_count": null,
   "metadata": {
    "vscode": {
     "languageId": "r"
    }
   },
   "outputs": [],
   "source": [
    "# Comparison against reference group\n",
    "compare_means(len ~ dose, df, ref.group = \"0.5\")"
   ]
  },
  {
   "cell_type": "code",
   "execution_count": null,
   "metadata": {
    "vscode": {
     "languageId": "r"
    }
   },
   "outputs": [],
   "source": [
    "# Comparison against all\n",
    "compare_means(len ~ dose, df, ref.group = \".all.\")"
   ]
  },
  {
   "cell_type": "code",
   "execution_count": null,
   "metadata": {
    "vscode": {
     "languageId": "r"
    }
   },
   "outputs": [],
   "source": [
    "# Anova test\n",
    "compare_means(len ~ dose, df, method = \"anova\")"
   ]
  },
  {
   "cell_type": "code",
   "execution_count": null,
   "metadata": {
    "vscode": {
     "languageId": "r"
    }
   },
   "outputs": [],
   "source": [
    "# kruskal.test\n",
    "compare_means(len ~ dose, df, method = \"kruskal.test\")"
   ]
  },
  {
   "cell_type": "markdown",
   "metadata": {},
   "source": [
    "# 6. 더 읽어볼것\n",
    "\n",
    "- [Easy Way to Mix Multiple Graphs on The Same Page](http://www.sthda.com/english/articles/24-ggpubr-publication-ready-plots/81-ggplot2-easy-way-to-mix-multiple-graphs-on-the-same-page/)\n",
    "- [Add P-values and Significance Levels to ggplots](http://www.sthda.com/english/articles/24-ggpubr-publication-ready-plots/76-add-p-values-and-significance-levels-to-ggplots/)\n",
    "\n",
    "# 7. 마치며\n",
    "\n",
    "`ggpubr`는 정말 딱 필요한 기능을 아주 쉽게 사용할 수 있게 디자인되어 있습니다. 너무 과하지도 않고 대부분의 과학저널에서 사용되는 시각화를 지원하죠. 간단하게 통계분석을 할 수 있다는 점도 마음에 듭니다."
   ]
  }
 ],
 "metadata": {
  "kernelspec": {
   "display_name": "R",
   "language": "R",
   "name": "ir"
  },
  "language_info": {
   "codemirror_mode": "r",
   "file_extension": ".r",
   "mimetype": "text/x-r-source",
   "name": "R",
   "pygments_lexer": "r",
   "version": "4.1.1"
  },
  "nikola": {
   "category": "R",
   "date": "2018-04-09 07:56:47 UTC+09:00",
   "description": "R로 그래프 그리기",
   "link": "",
   "slug": "ggpubr",
   "tags": [
    "ggpubr",
    "visualization",
    "R",
    "시각화",
    "t-test"
   ],
   "title": "ggpubr로 논문급 도표그리기",
   "type": "text"
  }
 },
 "nbformat": 4,
 "nbformat_minor": 2
}
