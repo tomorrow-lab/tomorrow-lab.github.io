{
 "cells": [
  {
   "cell_type": "raw",
   "metadata": {
    "vscode": {
     "languageId": "raw"
    }
   },
   "source": [
    "---\n",
    "title: \"LLM 사전 학습에 대한 이해\"\n",
    "author: \"Taeyoon Kim\"\n",
    "categories: [LLM, Machine Learning, Python]\n",
    "draft: false\n",
    "date: \"2025-03-13\"\n",
    "date-modified: last-modified\n",
    "---\n"
   ]
  },
  {
   "cell_type": "markdown",
   "metadata": {},
   "source": [
    "이 글은 [deeplearning.ai](https://learn.deeplearning.ai/courses/pretraining-llms)의 Pre-training LLM 강의를 듣고 나름대로 정리를 해본 글입니다. 자세한 내용은 강의를 참고해주세요. LLM 사전 학습은 컴퓨팅 파워가 많이 필요하기 때문에 사실상 개인이 수행하기에는 어려운 작업이지만, 이 글을 통해 LLM 사전 학습에 대한 전반적인 이해를 얻을 수 있을 것입니다.\n",
    "\n",
    "# LLM 사전 학습이란?\n",
    "\n",
    "대규모 언어 모델(LLM)을 처음부터 훈련하는 것은 막대한 계산 자원과 시간이 소요됩니다. 그래서 이미 방대한 텍스트 데이터를 활용해 사전 학습된 모델을 가져와 특정 작업에 맞게 소규모 데이터셋으로 미세 조정(Fine-tuning)하는 것이 일반적인 자연어 처리(NLP) 방법입니다. 그러나 이 글에서는 데이터를 수집하고 준비하는 첫번째 단계부터 LLM 모델을 사전 학습 시키는 아래와 같은 과정에 대해 배워보도록 하겠습니다.\n",
    "\n",
    "```{mermaid}\n",
    "graph LR;\n",
    "    A[데이터 수집] --> B[데이터 패키징]\n",
    "    B --> C[모델 학습]\n",
    "    C --> D[모델 사용]\n",
    "    D --> E[모델 평가]\n",
    "```"
   ]
  },
  {
   "cell_type": "code",
   "execution_count": null,
   "metadata": {},
   "outputs": [],
   "source": [
    "# | echo: false\n",
    "import os\n",
    "import warnings\n",
    "from pathlib import Path\n",
    "from typing import Any\n",
    "\n",
    "import torch\n",
    "\n",
    "os.environ[\"TOKENIZERS_PARALLELISM\"] = \"false\"\n",
    "warnings.filterwarnings(\"ignore\")\n",
    "\n",
    "\n",
    "def fix_torch_seed(seed=42):\n",
    "    torch.manual_seed(seed)\n",
    "    torch.cuda.manual_seed(seed)\n",
    "    torch.backends.cudnn.deterministic = True\n",
    "    torch.backends.cudnn.benchmark = False\n",
    "\n",
    "\n",
    "fix_torch_seed()"
   ]
  },
  {
   "cell_type": "markdown",
   "metadata": {},
   "source": [
    "## 일반 사전학습 모델 불러오기\n",
    "\n",
    "여기서 예시로 다루는 `TinySolar-248m-4k` 모델은 248M 매개변수(GPT2와 비슷한 규모)와 4096 토큰 컨텍스트 윈도우를 가진 작은 디코더 전용 소형 모델입니다. 이 모델은 Hugging Face 모델 라이브러리에서 [링크](https://huggingface.co/upstage/TinySolar-248m-4k) 확인 할 수 있습니다.\n",
    "\n",
    "모델을 불러오는 과정은 다음 세 단계로 이루어집니다:\n",
    "1. Hugging Face 모델 라이브러리에서 모델 경로 지정하기\n",
    "2. `transformers` 라이브러리의 `AutoModelforCausalLM`을 사용하여 모델 불러오기\n",
    "3. 같은 모델 경로에서 모델의 토크나이저 불러오기\n"
   ]
  },
  {
   "cell_type": "markdown",
   "metadata": {},
   "source": [
    "# 데이터 준비\n",
    "\n",
    "언어 모델을 학습할 때 사용하는 데이터의 품질은 매우 중요하며 사전 학습(Pre-training)에서 필요한 데이터와 미세 조정(Fine-tuning)에서의 데이터는 서로 다른 성질을 가지고 있습니다.\n",
    "\n",
    "사전 학습에 사용되는 데이터는 일반적으로 더 대규모 데이터로 구조화가 덜 되어 있습니다. 반면에 미세 조정에서 사용되는 데이터는 특정 작업에 맞게 구조화된 데이터로 구성되어 있습니다. 비유하자면 사전 학습은 많은 책을 읽는 것과 같고, 미세 조정은 예비 고사를 치르는 것과 같습니다. \n",
    "\n",
    "여기에서는 학습 데이터를 확보하는 두 가지 방법을 살펴보겠습니다:\n",
    "\n",
    "1. Hugging Face에서 기존 데이터셋 다운로드\n",
    "2. 직접 수집한 텍스트 파일로 데이터셋 생성\n",
    "\n",
    "두 경우 모두 결과는 `Datasets` 라이브러리의 일부인 Hugging Face `Dataset` 객체가 됩니다. Dataset의 속성과 사용 방법에 대한 자세한 내용은 [Hugging Face 웹사이트](https://huggingface.co/docs/datasets/en/index)에서 확인할 수 있습니다.\n",
    "\n",
    "## Hugging Face에서 데이터 다운로드\n",
    "\n",
    "여기서 다운로드하는 `upstage/Pretraining_Dataset` 데이터셋은 **Red Pajama**라는 훨씬 더 큰(1조 토큰 규모) 데이터셋의 서브셋입니다. 전체 데이터셋은 Hugging Face의 [이 링크](https://huggingface.co/datasets/togethercomputer/RedPajama-Data-1T)에서 확인할 수 있습니다.\n"
   ]
  },
  {
   "cell_type": "code",
   "execution_count": null,
   "metadata": {},
   "outputs": [],
   "source": [
    "from datasets import load_dataset\n",
    "\n",
    "pretraining_dataset = load_dataset(\"upstage/Pretraining_Dataset\", split=\"train\")\n",
    "pretraining_dataset = pretraining_dataset.select_columns([\"text\"])\n",
    "print(pretraining_dataset)"
   ]
  },
  {
   "cell_type": "code",
   "execution_count": null,
   "metadata": {},
   "outputs": [],
   "source": [
    "print(pretraining_dataset[\"text\"][0])"
   ]
  },
  {
   "cell_type": "markdown",
   "metadata": {},
   "source": [
    "### 사전 학습 및 미세 조정 데이터 세트 비교  \n",
    "\n",
    "다음 셀에서는 위에서 로드한 사전 학습 데이터 세트와 대조할 미세 조정 데이터 세트를 다운로드합니다. Alpaca 모델 및 명령어 튜닝 데이터 세트에 대한 자세한 내용은 [여기](https://crfm.stanford.edu/2023/03/13/alpaca.html)에서 확인할 수 있습니다."
   ]
  },
  {
   "cell_type": "code",
   "execution_count": null,
   "metadata": {},
   "outputs": [],
   "source": [
    "from datasets import load_dataset\n",
    "\n",
    "instruction_dataset = load_dataset(\"c-s-ale/alpaca-gpt4-data\", split=\"train\")\n",
    "\n",
    "i = 0\n",
    "\n",
    "print(f\"\"\"Instruction: {instruction_dataset[i][\"instruction\"]}\n",
    "Input: {instruction_dataset[i][\"input\"]}\n",
    "Output: {instruction_dataset[i][\"output\"]}\"\"\")"
   ]
  },
  {
   "cell_type": "markdown",
   "metadata": {},
   "source": [
    "사전 학습 데이터가 단순한 원시 텍스트로 구성된 것과 달리 미세 조정용 데이터 세트는 질문-답변 쌍이나 명령어-응답 형태로 구조화되어 있다는 것을 알 수 있습니다. 또한 필요한 경우 추가 입력 컨텍스트를 포함할 수도 있습니다. 다만 여기에서는 앞으로는 비구조화된 사전 학습 데이터 세트만 사용할 것입니다.\n",
    "\n",
    "## 직접 데이터 스크랩해오기\n"
   ]
  },
  {
   "cell_type": "code",
   "execution_count": null,
   "metadata": {},
   "outputs": [],
   "source": [
    "from datasets import Dataset, concatenate_datasets\n",
    "\n",
    "# 스크랩된 텍스트 데이터를 저장할 리스트 초기화\n",
    "scrap_text = []\n",
    "source_dir = Path(\"../data/input/scraped_text\")\n",
    "\n",
    "# 디렉토리 내 모든 파일 읽기\n",
    "for file_path in source_dir.iterdir():\n",
    "    if file_path.is_file():  # 파일인지 확인\n",
    "        with file_path.open(\"r\", encoding=\"utf-8\") as file:\n",
    "            scrap_text.append({\"text\": file.read()})\n",
    "\n",
    "# 리스트를 Dataset 객체로 변환\n",
    "scrap_text_dataset = Dataset.from_list(scrap_text)\n",
    "\n",
    "# 기존 데이터셋과 새로 만든 데이터셋 결합\n",
    "dataset = concatenate_datasets([pretraining_dataset, scrap_text_dataset])\n",
    "\n",
    "# 결과 출력\n",
    "print(dataset)"
   ]
  },
  {
   "cell_type": "markdown",
   "metadata": {},
   "source": [
    "## 데이터 정리\n",
    "\n",
    "이제 다음과 같은 데이터 정리 단계를 수행합니다:  \n",
    "\n",
    "1. 너무 짧은 데이터 필터링  \n",
    "2. 하나의 텍스트 내에서 반복된 부분 제거  \n",
    "3. 중복된 문서 제거  \n",
    "4. 비영어 텍스트를 제거하는 품질 필터 적용  \n",
    "\n",
    "### 너무 짧은 데이터 제거\n",
    "\n",
    "짧은 데이터는 모델이 학습하는 데 도움이 되지 않을 수 있습니다. 따라서 이번 단계에서는 너무 짧은 데이터를 제거합니다. 여기서는 3개 이하의 토큰을 가진 데이터를 제거합니다."
   ]
  },
  {
   "cell_type": "code",
   "execution_count": null,
   "metadata": {},
   "outputs": [],
   "source": [
    "import heapq\n",
    "import re\n",
    "\n",
    "\n",
    "def paragraph_length_filter(example):\n",
    "    \"\"\"페이지의 줄 수가 너무 적거나 줄 길이가 너무 짧으면 False를 반환합니다.\"\"\"\n",
    "    lines = example[\"text\"].split(\"\\n\")\n",
    "    # 가장 긴 3개의 줄의 길이를 계산하고, 그 중 최소 길이가 3보다 작은 경우 False 반환\n",
    "    if len(lines) < 3 or min(heapq.nlargest(3, [len(line) for line in lines])) < 3:\n",
    "        return False\n",
    "    return True\n",
    "\n",
    "\n",
    "print(f\"데이터 정리 전 데이터의 수: {dataset.num_rows}\")\n",
    "\n",
    "# 필터링 작업 수행\n",
    "dataset = dataset.filter(paragraph_length_filter, load_from_cache_file=False)\n",
    "\n",
    "print(f\"데이터 정리 후 데이터의 수: {dataset.num_rows}\")"
   ]
  },
  {
   "cell_type": "markdown",
   "metadata": {},
   "source": [
    "### 훈련 샘플 내 반복된 텍스트 제거  \n",
    "\n",
    "여기서는 각 샘플 내에서 반복된 텍스트를 제거합니다. 이를 통해 모델이 반복된 텍스트를 학습하는 것을 방지할 수 있습니다."
   ]
  },
  {
   "cell_type": "code",
   "execution_count": null,
   "metadata": {},
   "outputs": [],
   "source": [
    "def find_duplicates(paragraphs: list[str]) -> tuple[int, int]:\n",
    "    \"\"\"중복된 단락의 수와 문자 수를 계산합니다.\"\"\"\n",
    "    unique_paragraphs = set()\n",
    "    duplicate_chars = 0\n",
    "    duplicate_count = 0\n",
    "\n",
    "    for paragraph in paragraphs:\n",
    "        if paragraph in unique_paragraphs:\n",
    "            duplicate_chars += len(paragraph)\n",
    "            duplicate_count += 1\n",
    "        else:\n",
    "            unique_paragraphs.add(paragraph)\n",
    "\n",
    "    return duplicate_count, duplicate_chars\n",
    "\n",
    "\n",
    "def paragraph_repetition_filter(example: dict[str, str]) -> bool:\n",
    "    \"\"\"페이지에 중복이 너무 많으면 False를 반환합니다.\"\"\"\n",
    "    text = example[\"text\"]\n",
    "    paragraphs = re.compile(r\"\\n{2,}\").split(text.strip())\n",
    "\n",
    "    duplicate_count, duplicate_chars = find_duplicates(paragraphs)\n",
    "\n",
    "    if duplicate_count / len(paragraphs) > 0.3:\n",
    "        return False\n",
    "    if duplicate_chars / len(text) > 0.2:\n",
    "        return False\n",
    "\n",
    "    return True\n",
    "\n",
    "\n",
    "# 데이터셋에 필터 적용\n",
    "filtered_dataset = dataset.filter(paragraph_repetition_filter, load_from_cache_file=False)\n",
    "print(f\"필터링 후 데이터셋 크기: {filtered_dataset.num_rows}\")"
   ]
  },
  {
   "cell_type": "markdown",
   "metadata": {},
   "source": [
    "### 중복 제거  \n",
    "\n",
    "이 섹션에서는 전체 데이터 세트에서 중복된 샘플을 제거합니다. (이전 단계에서는 각 샘플 내에서 반복된 텍스트만 제거했습니다.)"
   ]
  },
  {
   "cell_type": "code",
   "execution_count": null,
   "metadata": {},
   "outputs": [],
   "source": [
    "def deduplication(dataset: Dataset) -> Dataset:\n",
    "    unique_texts = set()\n",
    "\n",
    "    def dedup_func(example: dict[str, Any]) -> bool:\n",
    "        \"\"\"중복된 텍스트 항목을 제거합니다.\"\"\"\n",
    "        if example[\"text\"] in unique_texts:\n",
    "            return False\n",
    "        unique_texts.add(example[\"text\"])\n",
    "        return True\n",
    "\n",
    "    deduplicated_dataset = dataset.filter(dedup_func, load_from_cache_file=False, num_proc=1)\n",
    "\n",
    "    print(f\"원래 데이터셋 크기: {dataset.num_rows}\")\n",
    "    print(f\"중복 제거 후 데이터셋 크기: {deduplicated_dataset.num_rows}\")\n",
    "\n",
    "    return deduplicated_dataset\n",
    "\n",
    "\n",
    "dataset = deduplication(dataset)"
   ]
  },
  {
   "cell_type": "markdown",
   "metadata": {},
   "source": [
    "### 언어 필터링\n",
    "\n",
    "여기서는 영어가 아닌 텍스트 샘플을 제거합니다. 이를 위해 `lingua-py`라는 언어 감지 라이브러리를 사용합니다. 자세한 내용은 [여기](https://github.com/pemistahl/lingua-py)에서 확인할 수 있습니다."
   ]
  },
  {
   "cell_type": "code",
   "execution_count": null,
   "metadata": {},
   "outputs": [],
   "source": [
    "from lingua import Language, LanguageDetectorBuilder\n",
    "\n",
    "# 영어와 한국어 감지를 위한 언어 감지기 생성\n",
    "detector = LanguageDetectorBuilder.from_languages(Language.ENGLISH, Language.KOREAN).build()\n",
    "\n",
    "# 데이터셋에서 영어 텍스트만 필터링\n",
    "dataset = dataset.filter(\n",
    "    lambda x: detector.detect_language_of(x[\"text\"].replace(\"\\n\", \"\")) == Language.ENGLISH,\n",
    "    load_from_cache_file=False,\n",
    "    num_proc=1,\n",
    ")\n",
    "\n",
    "# 필터링 후 데이터셋 크기 출력\n",
    "print(f\"제거 후 데이터셋 크기: {dataset.num_rows}\")"
   ]
  },
  {
   "cell_type": "markdown",
   "metadata": {},
   "source": [
    "## 데이터 세트를 디스크에 저장  \n",
    "\n",
    "Parquet 데이터 형식에 대한 자세한 내용은 [여기](https://parquet.apache.org/)에서 확인할 수 있습니다."
   ]
  },
  {
   "cell_type": "code",
   "execution_count": null,
   "metadata": {},
   "outputs": [],
   "source": [
    "output_dir = Path(\"../data/output\")\n",
    "file_name = \"preprocessed_dataset.parquet\"\n",
    "file_path = output_dir / file_name\n",
    "\n",
    "# 디렉토리가 존재하지 않으면 생성\n",
    "output_dir.mkdir(parents=True, exist_ok=True)\n",
    "\n",
    "# 파케이 파일로 저장\n",
    "dataset.to_parquet(file_path)\n",
    "\n",
    "print(f\"데이터셋이 성공적으로 저장되었습니다: {file_path}\")"
   ]
  },
  {
   "cell_type": "markdown",
   "metadata": {},
   "source": [
    "이제 데이터 세트를 모델 학습에 사용할 수 있도록 패키징하는 방법을 배웁니다.  \n",
    "\n",
    "# 데이터 패키징  \n",
    "\n",
    "데이터 패키징은 토큰화(Tokenizing)와 패킹(Packing) 과정을 포함하며 각각의 역할은 아래와 같습니다.\n",
    "\n",
    "- **토큰화(Tokenizing)**: 각 텍스트를 의미 있는 작은 단위(토큰)로 분할하는 과정  \n",
    "- **패킹(Packing)**: 훈련 효율성을 높이기 위해 토큰을 최대 시퀀스 길이에 맞게 정리하는 과정  \n",
    "\n",
    "## 토큰화 및 input_ids 만들기  \n",
    "\n",
    "이전 단계에서 저장한 데이터 세트를 불러오는 것부터 시작합니다."
   ]
  },
  {
   "cell_type": "code",
   "execution_count": null,
   "metadata": {},
   "outputs": [],
   "source": [
    "import datasets\n",
    "\n",
    "dataset = datasets.load_dataset(\"parquet\", data_files=file_path.as_posix(), split=\"train\")\n",
    "print(dataset)"
   ]
  },
  {
   "cell_type": "markdown",
   "metadata": {},
   "source": [
    "Hugging Face `Dataset` 객체의 `shard` 메서드를 사용하여 데이터 세트를 10개의 더 작은 조각(*shards*)으로 분할합니다. (*shard*는 깨진 유리 조각처럼 데이터를 나누는 개념입니다.) Sharding에 대한 자세한 내용은 [여기](https://huggingface.co/docs/datasets/en/process#shard)에서 확인할 수 있습니다."
   ]
  },
  {
   "cell_type": "code",
   "execution_count": null,
   "metadata": {},
   "outputs": [],
   "source": [
    "dataset = dataset.shard(num_shards=10, index=0)\n",
    "print(dataset)"
   ]
  },
  {
   "cell_type": "markdown",
   "metadata": {},
   "source": [
    "토크나이저를 불러오고, `input_ids`를 생성하는 데 사용할 수 있습니다. 이 과정은 데이터를 토큰화하고 토큰을 `input_ids`로 변환하는 과정입니다.\n"
   ]
  },
  {
   "cell_type": "code",
   "execution_count": null,
   "metadata": {},
   "outputs": [],
   "source": [
    "from transformers import AutoTokenizer\n",
    "\n",
    "model_path_or_name = \"upstage/SOLAR-10.7B-v1.0\"\n",
    "tokenizer = AutoTokenizer.from_pretrained(\n",
    "    model_path_or_name,\n",
    "    use_fast=False,  # 참고: 긴 텍스트 샘플이 때때로 멈추는 경향이 있어 빠른 토큰화를 비활성화합니다. 대신 병렬 처리를 위해 map 함수와 datasets 라이브러리를 사용하겠습니다.\n",
    ")\n",
    "tokenizer.tokenize(\"I'm a short sentence\")\n",
    "\n",
    "\n",
    "# 헬퍼 함수 생성:\n",
    "def tokenization(example):\n",
    "    # 토큰화\n",
    "    tokens = tokenizer.tokenize(example[\"text\"])\n",
    "    # 토큰을 ID로 변환\n",
    "    token_ids = tokenizer.convert_tokens_to_ids(tokens)\n",
    "    # <bos>, <eos> 토큰을 token_ids의 앞과 뒤에 추가\n",
    "    # bos: 시퀀스 시작, eos: 시퀀스 끝\n",
    "    token_ids = [tokenizer.bos_token_id] + token_ids + [tokenizer.eos_token_id]\n",
    "    example[\"input_ids\"] = token_ids\n",
    "\n",
    "    # 최종 데이터셋의 총 토큰 수를 계산하는 데 이 열을 사용할 것입니다.\n",
    "    example[\"num_tokens\"] = len(token_ids)\n",
    "    return example"
   ]
  },
  {
   "cell_type": "markdown",
   "metadata": {},
   "source": [
    "사전 학습 데이터 세트의 모든 예제를 토큰화 합니다. \n",
    "\n",
    "> 이 과정은 시간이 오래 걸릴 수 있습니다."
   ]
  },
  {
   "cell_type": "code",
   "execution_count": null,
   "metadata": {},
   "outputs": [],
   "source": [
    "# 데이터셋의 각 예제에 tokenization 함수를 적용합니다.\n",
    "# load_from_cache_file=False 옵션은 캐시된 결과를 사용하지 않고 항상 새로 계산하도록 합니다.\n",
    "dataset = dataset.map(tokenization, load_from_cache_file=False)\n",
    "\n",
    "# 변환된 데이터셋의 정보를 출력합니다.\n",
    "print(dataset)"
   ]
  },
  {
   "cell_type": "code",
   "execution_count": null,
   "metadata": {},
   "outputs": [],
   "source": [
    "sample = dataset[3]  # 데이터셋에서 네 번째 샘플을 선택합니다.\n",
    "\n",
    "print(\"text\", sample[\"text\"][:30])  # 샘플 텍스트의 처음 30자를 출력합니다.\n",
    "print(\"\\ninput_ids\", sample[\"input_ids\"][:30])  # 토큰화된 입력 ID의 처음 30개를 출력합니다.\n",
    "print(\"\\nnum_tokens\", sample[\"num_tokens\"])  # 샘플의 총 토큰 수를 출력합니다."
   ]
  },
  {
   "cell_type": "markdown",
   "metadata": {},
   "source": [
    "데이터셋의 총 토큰 수를 확인합니다."
   ]
  },
  {
   "cell_type": "code",
   "execution_count": null,
   "metadata": {},
   "outputs": [],
   "source": [
    "import numpy as np\n",
    "\n",
    "total_tokens = np.sum(dataset[\"num_tokens\"])\n",
    "print(f\"총 토큰 수: {total_tokens}\")"
   ]
  },
  {
   "cell_type": "markdown",
   "metadata": {},
   "source": [
    "## 데이터 패킹\n",
    "\n",
    "데이터 패킹은 여러 데이터를 효율적으로 하나의 데이터 블록으로 결합하는 과정입니다. 이 기술은 특히 자연어 처리(NLP) 작업에서 배치 처리 효율성을 높이는 데 중요합니다. 아래 다이어그램은 일반적인 워크플로우를 보여줍니다.\n",
    "\n",
    "```{mermaid}\n",
    "graph TD;\n",
    "    B[Load Dataset];\n",
    "    B --> C[Tokenize Each Example];\n",
    "    C --> D[Create input_ids];\n",
    "    D --> E[Pad Sequences to Max Length];\n",
    "    E --> F[Pack Tokens into Batches];\n",
    "```\n",
    "\n",
    "1. 데이터셋 로드: 원시 텍스트 데이터를 메모리에 불러옵니다.\n",
    "2. 토큰화: 각 예제 텍스트를 개별 토큰으로 분할합니다. 이는 단어, 하위 단어 또는 문자 수준에서 수행될 수 있습니다.\n",
    "3. input_ids 생성: 토큰을 해당하는 정수 ID로 변환합니다. 이는 모델이 이해할 수 있는 형식입니다.\n",
    "4. 시퀀스 패딩: 배치 내의 모든 시퀀스가 동일한 길이를 갖도록 짧은 시퀀스에 패딩을 추가합니다.\n",
    "5. 배치로 토큰 패킹: 여러 예제의 토큰을 하나의 배치로 결합합니다.\n",
    "\n",
    "마지막 단계에서 모든 예제의 input_ids를 하나의 리스트로 연결하는 것은 메모리 효율성과 처리 속도를 향상시키는 중요한 최적화 기법입니다. 이렇게 하면 모델이 한 번에 여러 예제를 처리할 수 있습니다. 이러한 패킹 기법은 GPU 메모리 사용을 최적화하고 병렬 처리 능력을 최대한 활용할 수 있어 전체적인 훈련 시간을 단축시킬 수 있습니다."
   ]
  },
  {
   "cell_type": "code",
   "execution_count": null,
   "metadata": {},
   "outputs": [],
   "source": [
    "# dataset의 \"input_ids\" 배열을 연결하여 하나의 배열로 만듭니다.\n",
    "input_ids = np.concatenate(dataset[\"input_ids\"])\n",
    "\n",
    "# 연결된 배열의 길이를 출력합니다.\n",
    "print(f\"연결된 배열의 길이 {len(input_ids)}\")\n",
    "\n",
    "# 최대 시퀀스 길이를 설정합니다.\n",
    "max_seq_length = 32\n",
    "\n",
    "# 총 길이를 계산합니다. input_ids의 길이에서 max_seq_length로 나누어 나머지를 뺀 값입니다.\n",
    "total_length = len(input_ids) - len(input_ids) % max_seq_length\n",
    "\n",
    "# 계산된 총 길이를 출력합니다.\n",
    "print(f\"계산된 총 길이: {total_length}\")"
   ]
  },
  {
   "cell_type": "markdown",
   "metadata": {},
   "source": [
    "리스트 끝에서 추가 토큰을 버려서 토큰의 수가 `max_seq_length`로 정확하게 나누어지도록 합니다.\n"
   ]
  },
  {
   "cell_type": "code",
   "execution_count": null,
   "metadata": {},
   "outputs": [],
   "source": [
    "# input_ids 배열을 total_length 길이만큼 자릅니다.\n",
    "input_ids = input_ids[:total_length]\n",
    "\n",
    "# 잘린 배열의 shape(형상)을 출력합니다.\n",
    "print(f\"input_ids의 shape: {input_ids.shape}\")\n",
    "\n",
    "# input_ids 배열을 (행: -1, 열: max_seq_length) 형태로 재구조화하고, 데이터 타입을 int32로 변환합니다.\n",
    "input_ids_reshaped = input_ids.reshape(-1, max_seq_length).astype(np.int32)\n",
    "\n",
    "# 재구조화된 배열의 shape(형상)을 출력합니다.\n",
    "print(f\"input_ids_reshaped의 shape: {input_ids_reshaped.shape}\")\n",
    "\n",
    "# 재구조화된 배열의 데이터 타입을 출력합니다.\n",
    "print(f\"input_ids_reshaped의 데이터 타입: {type(input_ids_reshaped)}\")"
   ]
  },
  {
   "cell_type": "markdown",
   "metadata": {},
   "source": [
    "Hugging Face 데이터 세트로 변환하려면 다음과 같이 합니다."
   ]
  },
  {
   "cell_type": "code",
   "execution_count": null,
   "metadata": {},
   "outputs": [],
   "source": [
    "# input_ids_reshaped를 리스트로 변환합니다.\n",
    "input_ids_list = input_ids_reshaped.tolist()\n",
    "\n",
    "# 변환된 리스트를 사용하여 새로운 Dataset 객체를 생성합니다.\n",
    "packaged_pretrain_dataset = datasets.Dataset.from_dict({\"input_ids\": input_ids_list})\n",
    "\n",
    "# 생성된 Dataset 객체의 정보를 출력합니다.\n",
    "print(f\"생성된 Dataset 객체: {packaged_pretrain_dataset}\")"
   ]
  },
  {
   "cell_type": "markdown",
   "metadata": {},
   "source": [
    "## 패킹된 데이터 세트 디스크에 저장\n",
    "\n",
    "Hugging Face Dataset 객체를 디스크에 저장하는 방법은 다음과 같습니다. \n",
    "\n",
    "> `to_parquet()` 메서드는 데이터를 Parquet 파일 형식으로 저장합니다. Parquet는 효율적인 컬럼 기반 저장 형식으로, 대규모 데이터를 저장하고 처리하는 데 최적화되어 있습니다. Parquet 형식은 다른 데이터 분석 툴(예: pandas, Apache Spark 등)과 쉽게 호환됩니다. 데이터 세트를 다른 시스템 또는 다른 툴과 공유할 때 유용하며 압축과 성능 최적화 측면에서 효율적입니다."
   ]
  },
  {
   "cell_type": "code",
   "execution_count": null,
   "metadata": {},
   "outputs": [],
   "source": [
    "file_name = \"packaged_pretrain_dataset.parquet\"\n",
    "file_path = output_dir / file_name\n",
    "\n",
    "# 디렉토리가 존재하지 않으면 생성\n",
    "output_dir.mkdir(parents=True, exist_ok=True)\n",
    "\n",
    "# 파케이 파일로 저장\n",
    "packaged_pretrain_dataset.to_parquet(file_path)\n",
    "\n",
    "print(f\"데이터셋이 성공적으로 저장되었습니다: {file_path}\")"
   ]
  },
  {
   "cell_type": "code",
   "execution_count": null,
   "metadata": {},
   "outputs": [],
   "source": [
    "packaged_pretrain_dataset"
   ]
  },
  {
   "cell_type": "code",
   "execution_count": null,
   "metadata": {},
   "outputs": [],
   "source": [
    "print(packaged_pretrain_dataset[0][\"input_ids\"][0:10])"
   ]
  },
  {
   "cell_type": "markdown",
   "metadata": {},
   "source": [
    "# 모델 훈련 준비하기\n",
    "\n",
    "## 모델 구성\n",
    "\n",
    "Meta의 Llama 모델 계열을 기반으로 모델을 구성할 것입니다. transformers 라이브러리에는 이 모델들과 함께 작업할 수 있는 여러 도구가 있으며, 이에 대해 [여기](https://huggingface.co/docs/transformers/main/en/model_doc/llama)에서 읽을 수 있습니다.\n",
    "\n",
    "시작은 `LlamaConfig` 객체를 생성하여 모델의 아키텍처를 구성하는 것입니다."
   ]
  },
  {
   "cell_type": "code",
   "execution_count": null,
   "metadata": {},
   "outputs": [],
   "source": [
    "from transformers import LlamaConfig, LlamaForCausalLM\n",
    "\n",
    "\n",
    "def print_nparams(model):\n",
    "    \"\"\"모델의 총 파라미터 개수를 계산하여 출력합니다.\"\"\"\n",
    "    nparams = sum(p.numel() for p in model.parameters())\n",
    "    print(f\"모델의 총 파라미터 개수: {nparams}\")\n",
    "\n",
    "\n",
    "# LlamaConfig 객체를 생성합니다.\n",
    "config = LlamaConfig()\n",
    "print(f\"기본 설정: {config}\")"
   ]
  },
  {
   "cell_type": "code",
   "execution_count": null,
   "metadata": {},
   "outputs": [],
   "source": [
    "# 모델 아키텍처를 변경하기 위해 설정 값을 업데이트합니다:\n",
    "config.num_hidden_layers = 12  # 기본값 32에서 12로 감소\n",
    "config.hidden_size = 1024  # 기본값 4096에서 1024로 감소 (1/4 축소)\n",
    "config.intermediate_size = 4096  # 기본값 11008에서 4096으로 감소 (MLP 표현 차원, 약 1/3 축소)\n",
    "config.num_key_value_heads = 8  # 기본값 num_attention_heads=32에서 8로 감소 (1/4 축소)\n",
    "config.torch_dtype = \"bfloat16\"  # 정밀도를 감소\n",
    "config.use_cache = False  # `True`는 gradient checkpointing과 호환되지 않음\n",
    "print(f\"업데이트된 설정: {config}\")"
   ]
  },
  {
   "cell_type": "markdown",
   "metadata": {},
   "source": [
    "## 가중치 초기화\n",
    "\n",
    "모델 훈련을 위한 가중치 초기화 방법에는 다음 4가지가 있습니다. 각각을 간략히 설명하고 4번째 방법인 depth upscaling 방법을 사용해 학습을 진행하겠습니다.\n",
    "  \n",
    "### 가중치 랜덤 초기화\n",
    "\n",
    "모델의 가중치를 랜덤으로 초기화하는 방법입니다. 모든 가중치는 평균이 0이고 표준 편차가 0.02인 절단된 정규 분포(truncated normal distribution)에서 값을 설정합니다. 평균에서 2시그마(2σ)를 초과하는 값은 0으로 설정됩니다.\n",
    "\n",
    "장점:\n",
    "\n",
    "- 대칭성을 깨뜨려 뉴런이 서로 다르게 학습할 수 있도록 도움.\n",
    "- 다양한 초기값으로 파라미터 공간 탐색 가능.\n",
    "\n",
    "단점:\n",
    "- 초기값이 너무 크거나 작으면 기울기 폭주(exploding gradient) 또는 소실(vanishing gradient) 문제가 발생할 수 있음.\n",
    "- 깊은 네트워크에서는 비효율적일 수 있음.\n",
    "\n",
    "### 기존 모델에 추가 사전 훈련\n",
    "\n",
    "기존 공개된 모델을 로드하여 새로운 데이터로 추가 학습을 진행하는 방법입니다.\n",
    "\n",
    "장점:\n",
    "\n",
    "- 기존 모델의 강점을 유지하면서 새로운 데이터에 맞게 업데이트 가능.\n",
    "- 학습 시간이 단축될 수 있음.\n",
    "\n",
    "단점:\n",
    "\n",
    "- 기존 모델이 새로운 데이터와 충분히 유사하지 않다면 성능 저하 가능.\n",
    "- 추가 훈련 시 과적합(overfitting) 위험 발생 가능.\n",
    "\n",
    "### 기존 학습된 모델 축소\n",
    "\n",
    "예를 들면 `tinySolar-248m-4k` 모델을 12개 레이어에서 10개 레이어로 축소합니다.\n",
    "\n",
    "장점:\n",
    "- 모델 크기를 줄여 계산 비용 감소.\n",
    "- 간단한 작업에 더 적합하게 조정 가능.\n",
    "\n",
    "단점:\n",
    "- 복잡한 문제에서는 성능 저하 가능.\n",
    "- 중요한 정보가 손실될 수 있음.\n",
    "\n",
    "### 기존 학습된 모델 확장\n",
    "\n",
    "예를 들면 `tinySolar-248m-4k` 모델을 12개 레이어에서 16개 레이어로 확장할 것입니다. 이는 복잡한 문제를 해결하기 위해 모델의 표현력을 높이는 데 효과적이며, 기존 사전 학습된 가중치를 활용해 효율적으로 확장할 수 있는 장점이 있습니다.\n",
    "\n",
    "장점:\n",
    "- 더 복잡한 문제를 처리할 수 있는 능력 향상.\n",
    "- 기존 모델의 성능을 확장하여 더 많은 데이터를 활용 가능.\n",
    "\n",
    "단점:\n",
    "- 계산 비용 증가 및 학습 시간 연장.\n",
    "- 레이어를 잘못 추가하면 과적합 위험 증가.\n",
    "\n",
    "#### 실습\n",
    "\n",
    "이제 12개 레이어의 `tinySolar-248m-4k` 모델을 16개 레이어로 확장하는 방법을 알아보도록 하겠습니다. 레이어 선택 전략: 원본 12개 레이어 중 하위 8개(초기 특징 추출) + 상위 8개(고수준 추상화)를 중복 추출하는 방법을 사용하겠습니다. 이를 통해 계산 효율성(전체 레이어 재학습 대신 기존 레이어 재활용으로 학습 시간 단축)과 호환성이 보장(임베딩/분류 레이어 유지로 입력-출력 구조 일관성 확보)됩니다. 수행할 단계는 다음과 같습니다:\n",
    "\n",
    "1. 16개 레이어 모델 구성 및 랜덤 가중치 초기화\n",
    "    - 16개 레이어 구조의 새 모델을 생성하고 랜덤 가중치로 초기화합니다.\n",
    "2. 12개 레이어를 가진 `tinySolar-248m-4k` 모델 메모리 로드\n",
    "    - 기존 12개 레이어 모델을 메모리에 불러옵니다.\n",
    "3. 레이어 복제 및 가중치 덮어쓰기\n",
    "    - 원본 12개 레이어 모델에서 하위 8개 레이어와 상위 8개 레이어를 복사하여 16개 레이어 모델의 랜덤 가중치를 대체합니다.\n",
    "4. 임베딩/분류 레이어 복제\n",
    "    - 원본 모델의 임베딩 레이어(embedding layers)와 분류 레이어(classifying layers)를 새 모델의 랜덤 초기화된 해당 레이어에 복사합니다.\n"
   ]
  },
  {
   "cell_type": "code",
   "execution_count": null,
   "metadata": {},
   "outputs": [],
   "source": [
    "from copy import deepcopy\n",
    "\n",
    "from transformers import AutoModelForCausalLM, AutoTokenizer, LlamaConfig, TextStreamer\n",
    "\n",
    "# LLaMA 모델 구성 설정\n",
    "config = LlamaConfig(\n",
    "    num_hidden_layers=16,  # 최종적으로 16개의 레이어를 가진 모델을 원함\n",
    "    hidden_size=1024,\n",
    "    intermediate_size=4096,\n",
    "    num_attention_heads=32,\n",
    "    num_key_value_heads=8,\n",
    "    torch_dtype=\"bfloat16\",\n",
    "    use_cache=False,\n",
    ")\n",
    "print(config)\n",
    "\n",
    "# 새로운 모델 생성 및 bfloat16으로 변환\n",
    "model = LlamaForCausalLM(config)\n",
    "model = model.to(dtype=torch.bfloat16)\n",
    "print_nparams(model)  # 308839424 => 308M\n",
    "\n",
    "# 사전 학습된 모델 로드\n",
    "model_name_or_path = \"upstage/TinySolar-248m-4k\"\n",
    "pretrained_model = AutoModelForCausalLM.from_pretrained(\n",
    "    model_name_or_path,\n",
    "    device_map=\"cpu\",\n",
    "    torch_dtype=torch.bfloat16,\n",
    ")\n",
    "tokenizer = AutoTokenizer.from_pretrained(model_name_or_path)\n",
    "\n",
    "print_nparams(pretrained_model)  # 248013824 => 248M\n",
    "\n",
    "# 사전 학습된 모델의 레이어를 새 모델로 복사\n",
    "model.model.layers = deepcopy(pretrained_model.model.layers[:-4]) + deepcopy(\n",
    "    pretrained_model.model.layers[4:]\n",
    ")\n",
    "\n",
    "# 임베딩 레이어 복사\n",
    "model.model.embed_tokens = deepcopy(pretrained_model.model.embed_tokens)\n",
    "\n",
    "# 언어 모델 헤드 복사\n",
    "model.lm_head = deepcopy(pretrained_model.lm_head)\n",
    "\n",
    "print(model.config)\n",
    "\n",
    "# 간단한 추론 실행으로 학습되지 않은 모델 테스트\n",
    "prompt = \"I am an engineer. I love\"\n",
    "\n",
    "inputs = tokenizer(prompt, return_tensors=\"pt\").to(model.device)\n",
    "\n",
    "streamer = TextStreamer(tokenizer, skip_prompt=True, skip_special_tokens=True)\n",
    "\n",
    "outputs = model.generate(\n",
    "    **inputs, streamer=streamer, use_cache=True, max_new_tokens=128, do_sample=False\n",
    ")"
   ]
  },
  {
   "cell_type": "markdown",
   "metadata": {},
   "source": [
    "위의 결과를 통해 학습되지 않은 모델은 성능이 좋지 않다는 것을 알 수 있습니다.(같은 말을 반복) 일단은 해당 모델을 디스크에 저장하겠습니다. 새 모델 이름은 확장된 3억 8백만 개 매개변수(308M)를 반영해 `TinySolar-308m-4k-init`로 지정하겠습니다."
   ]
  },
  {
   "cell_type": "code",
   "execution_count": null,
   "metadata": {},
   "outputs": [],
   "source": [
    "file_name = \"TinySolar-308m-4k-init\"\n",
    "file_path = output_dir / file_name\n",
    "\n",
    "# 디렉토리가 존재하지 않으면 생성\n",
    "output_dir.mkdir(parents=True, exist_ok=True)\n",
    "\n",
    "# 308M 파라미터 모델 저장\n",
    "model.save_pretrained(file_path)\n",
    "\n",
    "# 참고: 메모리 제한 환경에서 대규모 모델 실행 시 사용 (메모리 문제 발생 시 실행)\n",
    "import gc\n",
    "\n",
    "del model  # 모델 객체 삭제\n",
    "gc.collect()  # 가비지 컬렉션 수행"
   ]
  },
  {
   "cell_type": "markdown",
   "metadata": {},
   "source": [
    "# 모델 학습\n",
    "\n",
    "사전 학습(pretraining)은 컴퓨팅 자원이 매우 많이 듭니다! 따라서 사전 학습 프로젝트를 시작하기 전에 비용이 얼마나 들지 확인해보는것이 좋습니다. 🤗 Hugging Face의 [비용 계산기](https://huggingface.co/training-cluster)를 사용하여 학습 작업 비용을 대략적으로 예상할 수 있습니다. AWS나 Google Cloud와 같은 다른 인프라에서 학습할 경우, 해당 제공업체의 최신 비용 추정치를 참조하시기 바랍니다.\n",
    "\n",
    "## 학습할 모델 로드하기\n",
    "\n",
    "이전에 만들었던 확장(upscale)한 모델을 다시 불러옵니다."
   ]
  },
  {
   "cell_type": "code",
   "execution_count": null,
   "metadata": {},
   "outputs": [],
   "source": [
    "import torch\n",
    "from transformers import AutoModelForCausalLM\n",
    "\n",
    "pretrained_model = AutoModelForCausalLM.from_pretrained(\n",
    "    file_path.as_posix(),\n",
    "    device_map=\"auto\",\n",
    "    torch_dtype=torch.bfloat16,\n",
    "    use_cache=False,\n",
    ")\n",
    "pretrained_model"
   ]
  },
  {
   "cell_type": "markdown",
   "metadata": {},
   "source": [
    "위 출력 결과를 통해 레이어가 16개인 것을 확인 할 수 있습니다.\n",
    "\n",
    "## 데이터셋 로드\n",
    "\n",
    "`Dataset` 객체의 두 가지 메서드를 업데이트하여 트레이너와 인터페이스할 수 있도록 합니다. 이 메서드들은 생성한 데이터셋을 학습 데이터로 지정할 때 필요 합니다."
   ]
  },
  {
   "cell_type": "code",
   "execution_count": null,
   "metadata": {},
   "outputs": [],
   "source": [
    "import datasets\n",
    "import torch\n",
    "from torch.utils.data import Dataset\n",
    "\n",
    "\n",
    "class CustomDataset(Dataset):\n",
    "    def __init__(self, args, split=\"train\"):\n",
    "        \"\"\"커스텀 데이터셋 객체를 초기화합니다.\"\"\"\n",
    "        self.args = args\n",
    "        self.dataset = datasets.load_dataset(\"parquet\", data_files=args.dataset_name, split=split)\n",
    "\n",
    "    def __len__(self):\n",
    "        \"\"\"데이터셋의 샘플 수를 반환합니다.\"\"\"\n",
    "        return len(self.dataset)\n",
    "\n",
    "    def __getitem__(self, idx):\n",
    "        \"\"\"\n",
    "        지정된 인덱스에서 데이터셋의 단일 데이터 샘플을 검색합니다.\n",
    "        \"\"\"\n",
    "        # 리스트를 PyTorch용 LongTensor로 변환\n",
    "        input_ids = torch.LongTensor(self.dataset[idx][\"input_ids\"])\n",
    "        labels = torch.LongTensor(self.dataset[idx][\"input_ids\"])\n",
    "\n",
    "        # 샘플을 딕셔너리 형태로 반환\n",
    "        return {\"input_ids\": input_ids, \"labels\": labels}"
   ]
  },
  {
   "cell_type": "markdown",
   "metadata": {},
   "source": [
    "## 학습 파라미터 구성\n",
    "\n",
    "여기서는 모델 학습에 필요한 다양한 매개변수를 정의합니다. 그리고 이전에 준비한 데이터셋을 학습 과정에 연결합니다."
   ]
  },
  {
   "cell_type": "code",
   "execution_count": null,
   "metadata": {},
   "outputs": [],
   "source": [
    "from dataclasses import dataclass, field\n",
    "\n",
    "import transformers\n",
    "\n",
    "output_dir = Path(\"../data/output\")\n",
    "dataset_name = \"packaged_pretrain_dataset.parquet\"\n",
    "dataset_path = output_dir / dataset_name\n",
    "\n",
    "\n",
    "@dataclass\n",
    "class CustomArguments(transformers.TrainingArguments):\n",
    "    # 데이터셋 구성\n",
    "    dataset_name: str = field(  # 데이터셋 파일 경로 설정\n",
    "        default=dataset_path.as_posix()\n",
    "    )\n",
    "    num_proc: int = field(default=1)  # 데이터 전처리를 위한 서브 프로세스 수\n",
    "    max_seq_length: int = field(default=32)  # 최대 시퀀스 길이\n",
    "\n",
    "    # 핵심 학습 설정\n",
    "    seed: int = field(default=0)  # 초기화를 위한 랜덤 시드, 재현성을 보장\n",
    "    optim: str = field(default=\"adamw_torch\")  # 옵티마이저 설정, 여기서는 PyTorch의 AdamW 사용\n",
    "    max_steps: int = field(default=10000)  # 최대 학습 스텝 수\n",
    "    per_device_train_batch_size: int = field(default=2)  # 각 디바이스에서 학습에 사용되는 배치 크기\n",
    "\n",
    "    # 기타 학습 설정\n",
    "    learning_rate: float = field(default=5e-5)  # 옵티마이저의 초기 학습률 설정\n",
    "    weight_decay: float = field(default=0)  # 가중치 감소율 설정\n",
    "    warmup_steps: int = field(default=10)  # 학습률 워밍업 단계 수 설정\n",
    "    lr_scheduler_type: str = field(default=\"linear\")  # 학습률 스케줄러 유형 설정\n",
    "    gradient_checkpointing: bool = field(\n",
    "        default=True\n",
    "    )  # 메모리 절약을 위한 그래디언트 체크포인트 활성화\n",
    "    dataloader_num_workers: int = field(default=2)  # 데이터 로딩을 위한 서브 프로세스 수 설정\n",
    "    bf16: bool = field(default=True)  # 지원되는 하드웨어에서 bfloat16 정밀도를 사용하여 학습 수행\n",
    "    gradient_accumulation_steps: int = field(\n",
    "        default=1\n",
    "    )  # 모델 가중치를 업데이트하기 전에 그래디언트를 누적하는 단계 수\n",
    "\n",
    "    # 로깅 구성\n",
    "    logging_steps: int = field(default=1000)  # 학습 정보를 로깅하는 빈도(스텝 단위)\n",
    "    report_to: str = field(default=\"none\")  # 로깅 대상(e.g., WandB, TensorBoard)\n",
    "\n",
    "    # 저장 구성\n",
    "    save_strategy: str = field(default=\"steps\")  # \"epoch\"으로 변경 가능 (저장 전략)\n",
    "    save_steps: int = field(default=1000)  # 학습 체크포인트를 저장하는 빈도(스텝 단위)\n",
    "    save_total_limit: int = field(default=2)  # 저장할 체크포인트의 최대 개수 제한\n",
    "\n",
    "\n",
    "# 사용자 정의 인자를 파싱하고 모델 저장 경로를 설정합니다:\n",
    "parser = transformers.HfArgumentParser(CustomArguments)\n",
    "(args,) = parser.parse_args_into_dataclasses(args=[f\"--output_dir={output_dir.as_posix()}\"])\n",
    "\n",
    "# 학습 데이터셋을 설정합니다:\n",
    "train_dataset = CustomDataset(args=args)\n",
    "\n",
    "# 데이터셋의 형태를 확인합니다:\n",
    "print(\"Input shape: \", train_dataset[0][\"input_ids\"].shape)"
   ]
  },
  {
   "cell_type": "markdown",
   "metadata": {},
   "source": [
    "## 트레이너 실행 및 모니터링\n",
    "\n",
    "먼저, 학습 중 손실 값을 기록하기 위한 콜백을 설정합니다. 이 콜백은 학습 과정에서 발생하는 손실 값을 추적하고 기록하기 위함입니다.\n",
    "\n",
    "> 손실 값의 추이를 그래프로 시각화하면 학습 과정을 더 쉽게 이해할 수 있습니다. 급격한 손실 변화나 이상치가 있는지 주의 깊게 관찰하세요. 이는 학습 과정에서의 문제를 나타낼 수 있습니다."
   ]
  },
  {
   "cell_type": "code",
   "execution_count": null,
   "metadata": {},
   "outputs": [],
   "source": [
    "from transformers import Trainer, TrainerCallback\n",
    "\n",
    "\n",
    "# 손실 값 기록을 위한 커스텀 콜백 정의\n",
    "class LossLoggingCallback(TrainerCallback):\n",
    "    def on_log(self, args, state, control, logs=None, **kwargs):\n",
    "        \"\"\"학습 중 로그 데이터를 수집합니다\"\"\"\n",
    "        if logs is not None:\n",
    "            self.logs.append(logs)\n",
    "\n",
    "    def __init__(self):\n",
    "        \"\"\"콜백 초기화 및 로그 저장소 생성\"\"\"\n",
    "        self.logs = []\n",
    "\n",
    "\n",
    "# 콜백 객체 생성\n",
    "loss_logging_callback = LossLoggingCallback()"
   ]
  },
  {
   "cell_type": "markdown",
   "metadata": {},
   "source": [
    "그런 다음 `transformers` 라이브러리에서 Hugging Face `Trainer` 객체의 인스턴스를 생성합니다. 트레이너의 `train()` 메서드를 호출하여 학습을 시작합니다:"
   ]
  },
  {
   "cell_type": "code",
   "execution_count": null,
   "metadata": {},
   "outputs": [],
   "source": [
    "trainer = Trainer(\n",
    "    model=pretrained_model,\n",
    "    args=args,\n",
    "    train_dataset=train_dataset,\n",
    "    eval_dataset=None,\n",
    "    callbacks=[loss_logging_callback],\n",
    ")\n",
    "\n",
    "trainer.train()"
   ]
  },
  {
   "cell_type": "markdown",
   "metadata": {},
   "source": [
    "시각화를 통해 Training loss가 어떻게 줄었는지 확인해보겠습니다."
   ]
  },
  {
   "cell_type": "code",
   "execution_count": null,
   "metadata": {},
   "outputs": [],
   "source": [
    "import matplotlib.pyplot as plt\n",
    "\n",
    "# ggplot 스타일 적용\n",
    "plt.style.use(\"ggplot\")\n",
    "\n",
    "logs = loss_logging_callback.logs\n",
    "# loss_logging_callback에서 기록한 손실 값 가져오기\n",
    "losses = [log[\"loss\"] for log in logs if \"loss\" in log]  # 'loss' 키가 있는 로그만 추출\n",
    "\n",
    "plt.figure(figsize=(6, 4))  # 배경색 설정\n",
    "plt.plot(losses)\n",
    "plt.xlabel(\"Epochs\")\n",
    "plt.ylabel(\"Loss\")\n",
    "plt.title(\"Training Loss\")\n",
    "plt.show()"
   ]
  },
  {
   "cell_type": "markdown",
   "metadata": {},
   "source": [
    "학습을 계속할 수록 손실 값이 줄어드는 것을 확인할 수 있습니다. 이는 모델이 데이터를 더 잘 이해하고 있음을 의미합니다. 그러나 손실 값이 감소하는 속도가 느려지면 학습이 수렴(convergence)하고 있음을 나타낼 수 있습니다. 이 경우 학습률을 조정하거나 다른 하이퍼파라미터를 조정하여 성능을 향상시킬 수 있습니다. 이제 학습된 모델을 저장해보죠."
   ]
  },
  {
   "cell_type": "code",
   "execution_count": null,
   "metadata": {},
   "outputs": [],
   "source": [
    "# 모델 이름 및 저장 경로 설정\n",
    "model_name = \"TinySolar-308m-4k-finetune\"  # 파인튜닝된 모델 이름\n",
    "save_path = output_dir / model_name  # 모델 저장 경로 생성\n",
    "\n",
    "# 사전 학습된 모델 저장\n",
    "pretrained_model.save_pretrained(save_path.as_posix())  # 모델 가중치와 구성 파일 저장\n",
    "\n",
    "# 토크나이저 저장\n",
    "tokenizer.save_pretrained(save_path.as_posix())  # 토크나이저 관련 파일(vocab 등) 저장"
   ]
  },
  {
   "cell_type": "markdown",
   "metadata": {},
   "source": [
    "## 모델의 성능 확인\n",
    "\n",
    "모델 학습을 진행하면서 모델의 체크포인트(임시 저장)를 만들었습니다. 이 체크포인트를 불러와서 사용해보는 코드는 아래와 같습니다. 모델의 토크나이저는 이전과 마찬가지로 Solar 토크나이저를 사용하고 `TextStreamer` 객체를 설정하여 생성되는 텍스트를 출력합니다."
   ]
  },
  {
   "cell_type": "code",
   "execution_count": null,
   "metadata": {},
   "outputs": [],
   "source": [
    "import torch\n",
    "from transformers import AutoModelForCausalLM, AutoTokenizer, TextStreamer\n",
    "\n",
    "# 1. 토크나이저 설정\n",
    "model_name_or_path = \"upstage/TinySolar-248m-4k\"\n",
    "tokenizer = AutoTokenizer.from_pretrained(model_name_or_path)\n",
    "\n",
    "# 2. 중간 체크포인트 모델 로드\n",
    "checkpoint_path = \"../data/output/checkpoint-10000\"\n",
    "model2 = AutoModelForCausalLM.from_pretrained(\n",
    "    checkpoint_path,\n",
    "    device_map=\"auto\",\n",
    "    torch_dtype=torch.bfloat16,\n",
    ")\n",
    "\n",
    "# 3. 프롬프트 설정\n",
    "prompt = \"I am an engineer. I love\"\n",
    "\n",
    "# 4. 입력 토큰화\n",
    "inputs = tokenizer(prompt, return_tensors=\"pt\").to(model2.device)\n",
    "\n",
    "# 5. 텍스트 스트리머 설정\n",
    "streamer = TextStreamer(tokenizer, skip_prompt=True, skip_special_tokens=True)\n",
    "\n",
    "# 6. 텍스트 생성\n",
    "outputs = model2.generate(\n",
    "    **inputs,\n",
    "    streamer=streamer,\n",
    "    use_cache=True,\n",
    "    max_new_tokens=64,\n",
    "    do_sample=True,\n",
    "    temperature=1.0,\n",
    ")"
   ]
  },
  {
   "cell_type": "markdown",
   "metadata": {},
   "source": [
    "위의 결과를 보면 처음 시작했던 모델과 비교하면 훨씬 더 자연스러운 텍스트가 생성되는 것을 확인할 수 있습니다. 다만 맥락은 이해하기 어렵네요. \n",
    "\n",
    "# 모델 평가\n",
    "\n",
    "LLM 모델 평가는 전통적인 기계학습 모델과 달리 복잡하고 다면적인 과정입니다. 주요 평가 방법으로는 벤치마크 평가와 리더보드 평가가 존재합니다. 다만 실제 구현하는 코드는 이 글의 범위를 벗어나기에 생략하겠습니다.\n",
    "\n",
    "## 벤치마크 평가법\n",
    "\n",
    "벤치마크 평가는 표준화된 데이터셋과 태스크를 사용하여 모델의 성능을 객관적으로 측정합니다.\n",
    "\n",
    "- LM Evaluation Harness: EleutherAI에서 개발한 도구로, 다양한 벤치마크 태스크에 대해 LLM을 평가할 수 있습니다. 다음 [GitHub 리포지토리](https://github.com/EleutherAI/lm-evaluation-harness)에서 찾을 수 있습니다.\n",
    "- TruthfulQA: 모델의 진실성과 정확성을 평가하는 벤치마크로, 817개의 질문을 포함하며 건강, 법률, 금융 등 38개 주제를 다룹니다. TruthfulQA 벤치마크에 대한 자세한 내용은 [이 논문](https://arxiv.org/abs/2109.07958)에서 읽을 수 있으며 구현 코드는 다음 [GitHub 리포지토리](https://github.com/sylinrl/TruthfulQA)에서 확인할 수 있습니다.\n",
    "\n",
    "## 리더보드 평가법\n",
    "\n",
    "리더보드는 다양한 모델의 성능을 비교할 수 있는 플랫폼을 제공합니다.\n",
    "\n",
    "- Hugging Face [리더보드](https://huggingface.co/open-llm-leaderboard): 다양한 LLM 모델의 성능을 비교할 수 있는 플랫폼입니다. 전문가나 일반 사용자가 직접 모델의 출력을 평가하는 방식입니다."
   ]
  },
  {
   "cell_type": "markdown",
   "metadata": {},
   "source": [
    "# 마치며\n",
    "\n",
    "이번 강의에서는 LLM 사전 학습을 위한 데이터 수집, 정제, 패키징, 모델 구성, 가중치 초기화, 학습의 과정을 배웠습니다. 이러한 과정을 통해 LLM 모델을 효율적으로 학습하고 성능을 평가할 수 있습니다. 이제 여러분도 LLM 모델을 구축하고 평가할 수 있는 능력을 갖추셨습니다. 앞으로도 다양한 업무에 LLM 모델을 적용하여 더 나은 성능을 달성하시기 바랍니다.\n",
    "\n",
    "> AI는 새로운 전기와 같아서 삶의 거의 모든 영역을 변화시키고 개선할 것입니다. - [Andrew Ng](https://www.andrewng.org/)\n",
    "\n",
    "## Reference\n",
    "\n",
    "- [Pretraining LLMs](https://learn.deeplearning.ai/courses/pretraining-llms/lesson/xg5n5/why-pre-training)\n"
   ]
  }
 ],
 "metadata": {
  "kernelspec": {
   "display_name": ".venv",
   "language": "python",
   "name": "python3"
  },
  "language_info": {
   "codemirror_mode": {
    "name": "ipython",
    "version": 3
   },
   "file_extension": ".py",
   "mimetype": "text/x-python",
   "name": "python",
   "nbconvert_exporter": "python",
   "pygments_lexer": "ipython3",
   "version": "3.11.10"
  }
 },
 "nbformat": 4,
 "nbformat_minor": 2
}
