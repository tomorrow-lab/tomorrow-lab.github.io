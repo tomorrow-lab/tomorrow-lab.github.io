{
 "cells": [
  {
   "cell_type": "raw",
   "metadata": {
    "vscode": {
     "languageId": "raw"
    }
   },
   "source": [
    "---\n",
    "title: \"AnnData 객체를 10X MEX 형식으로 저장하기\"\n",
    "author: \"Taeyoon Kim\"\n",
    "categories: [Python, scRNA-seq, Bioinformatics, Scanpy]\n",
    "date: 2024-03-21\n",
    "date-modified: last-modified\n",
    "draft: false\n",
    "---"
   ]
  },
  {
   "cell_type": "markdown",
   "metadata": {},
   "source": [
    "![](logo_scanpy.svg){width=50% fig-align=\"center\"}\n",
    "\n",
    "# 들어가며\n",
    "\n",
    "단일세포 RNA 시퀀싱(scRNA-seq) 데이터 분석의 양대 산맥인 `Scanpy`와 `Seurat`은 서로 다른 파일 형식으로 데이터를 저장합니다. 더구나 프로그래밍 언어도 다르다 보니, 서로 데이터 변환이 쉽지 않습니다. \n",
    "\n",
    "그래서 이미 데이터 변환을 위한 여러가지 도구(`sceasy` 등)들이 개발되어 왔지만 제대로 작동 하지 않는 경우가 너무 많아서 이 글을 쓰게 되었습니다.\n",
    "\n",
    "## AnnData 객체에 대하여\n",
    "\n",
    "`Scanpy`는 고차원 단일세포 RNA 시퀀싱 데이터를 다루기 위한 파이썬 라이브러리입니다. 이 라이브러리는 데이터를 저장하고 관리하기 위해 `AnnData` 객체를 활용합니다. 이번 포스트는 `Scanpy`를 사용하여 `10x Genomics` 에서 제공하는 텍스트 형식의 데이터를 먼저 불러오고 UMAP을 그린다음 다시 텍스트 형식의 데이터로 내보내는 작업을 해보겠습니다. 이런 방법을 알게 되면 `Seurat`으로 데이터를 변환하는 작업도 훨씬 쉬워집니다.\n",
    "\n",
    "## mtx 형식에 대하여\n",
    "\n",
    "scRNA-seq count 데이터는 희소 행렬입니다. 다시 말해 대부분의 데이터가 0인 형태입니다. 이런 형태의 데이터를 효율적으로 저장하기 위해서 우리는 [MEX](https://math.nist.gov/MatrixMarket/formats.html)(Market Exchange Format)을 사용합니다. \n",
    "\n",
    "> MEX 형식은 행렬 데이터의 교환을 쉽게 할 수 있도록 고안되었습니다. 가능한 쉽게 분석할 수 있도록 최소한의 ASCII 형식을 가진 파일로 구성 됩니다. \n",
    "\n",
    "공개된 scRNA-seq 데이터에서 mtx로 저장되어 있는 것을 많이 볼 수 있습니다. 간략하게 설명하자면 `matrix.mtx`파일은 생성된 유전자 x 세포  count 행렬을 나타내며, 각 유전자의 발현 수준을 담고 있습니다. \n",
    "\n",
    "추가로 각 행과 열 인덱스에 해당하는 유전자 및 바코드 시퀀스가 TSV(Tab separated values) 형식 파일로 포함됩니다. TSV파일은 가장 단순하고 범용적인 파일 형식으로, 각 유전자의 이름과 세포 데이터가 텝으로 구분되어 저장되어 있습니다.\n",
    "\n",
    "\n",
    "# 예시 데이터\n",
    "\n",
    " `10x Genomics`에서 무료로 제공하는 pbmc3k 데이터를 사용합니다. 직접 [다운로드](http://cf.10xgenomics.com/samples/cell-exp/1.1.0/pbmc3k/pbmc3k_filtered_gene_bc_matrices.tar.gz)하거나 아래 코드를 통해 터미널에서 작업할 수 있습니다.\n",
    "\n",
    "```bash\n",
    "wget http://cf.10xgenomics.com/samples/cell-exp/1.1.0/pbmc3k/pbmc3k_filtered_gene_bc_matrices.tar.gz -O data/pbmc3k_filtered_gene_bc_matrices.tar.gz\n",
    "tar -xzf pbmc3k_filtered_gene_bc_matrices.tar.gz\n",
    "```\n",
    "\n",
    "다운로드 된 파일의 압축을 풀어보면 다음과 같이 3개의 파일로 구성되어 있습니다. \n",
    "\n",
    "\n",
    "```bash\n",
    ".\n",
    "├── barcodes.tsv\n",
    "├── genes.tsv\n",
    "└── matrix.mtx\n",
    "```\n",
    "\n",
    ":::{.callout-note}\n",
    "`Cell Ranger` 버전 3.0 이후에는 파일 형식이 달라졌습니다. `genes.csv` 파일은 `features.tsv.gz`로 대체되었으며, mtx 파일 및 바코드 파일은 이제 `gzip`으로 압축되었습니다.\n",
    ":::\n",
    "\n",
    "\n",
    "# `10X MEX` to `AnnData`"
   ]
  },
  {
   "cell_type": "code",
   "execution_count": null,
   "metadata": {},
   "outputs": [],
   "source": [
    "import warnings\n",
    "\n",
    "import anndata\n",
    "import pandas as pd\n",
    "import scanpy as sc\n",
    "import scipy\n",
    "from scipy.io import mmread\n",
    "\n",
    "# 경고 무시\n",
    "warnings.simplefilter(\"ignore\")\n",
    "\n",
    "# 출력 세부 수준 설정\n",
    "sc.settings.verbosity = 0  # 오류 (0), 경고 (1), 정보 (2), 힌트 (3)\n",
    "\n",
    "# 입력 경로\n",
    "input_path = \"../input/filtered_gene_bc_matrices/hg19/\"\n",
    "\n",
    "# 데이터 읽기\n",
    "adata = sc.read_10x_mtx(\n",
    "    input_path,  # `.mtx` 파일이 있는 디렉토리\n",
    "    var_names=\"gene_symbols\",  # 변수 이름에 유전자 기호 사용 (변수 축 인덱스)\n",
    ")\n",
    "\n",
    "# `sc.read_10x_mtx`에서 `var_names='gene_ids'`를 사용하는 경우 이 작업이 필요하지 않음\n",
    "adata.var_names_make_unique()\n",
    "\n",
    "adata"
   ]
  },
  {
   "cell_type": "markdown",
   "metadata": {},
   "source": [
    "위 출력 결과를 통해 원시 데이터에 총 2,700개의 바코드와 32,738개의 유전자가 있다는 것을 알 수 있습니다.\n",
    "\n",
    "## 기본적인 데이터 QC 하기\n"
   ]
  },
  {
   "cell_type": "code",
   "execution_count": null,
   "metadata": {},
   "outputs": [],
   "source": [
    "# 기본 필터링: 최소 유전자가 200개 이상인 세포 필터링\n",
    "sc.pp.filter_cells(adata, min_genes=200)\n",
    "# 최소 3개 이상의 세포에서 발현되는 유전자 필터링\n",
    "sc.pp.filter_genes(adata, min_cells=3)\n",
    "\n",
    "# 미토콘드리아 유전자 그룹을 \"mt\"로 주석\n",
    "adata.var[\"mt\"] = adata.var_names.str.startswith(\"MT-\")\n",
    "\n",
    "# QC 지표 계산\n",
    "sc.pp.calculate_qc_metrics(adata, qc_vars=[\"mt\"], percent_top=None, log1p=False, inplace=True)\n",
    "\n",
    "# 유전자 별 발현 수가 2500개 미만인 데이터 선택\n",
    "adata = adata[adata.obs.n_genes_by_counts < 2500, :]\n",
    "# 미토콘드리아 발현 비율이 5% 미만인 데이터 선택 후 복사\n",
    "adata = adata[adata.obs.pct_counts_mt < 5, :].copy()\n",
    "\n",
    "adata"
   ]
  },
  {
   "cell_type": "markdown",
   "metadata": {},
   "source": [
    "위 결과를 통해 데이터 QC를 거치자 데이터가 조금 감소한 것(바코드 2,638개, 유전자 13,714개)을 알 수 있습니다. \n",
    "\n",
    "## 데이터 정규화하기\n",
    "\n",
    "UMAP을 그리기 위해 원시 데이터를 정규화하고 highly variable 유전자만 남긴 다음 클러스터링을 수행합니다. 계산량을 줄이기 위해 전체 유전자중 일부 highly variable 유전자만으로 진행합니다. \n",
    "\n",
    ":::{.callout-note}\n",
    "전체 유전자를 다 사용한 것과 클러스터링 결과는 동일합니다.\n",
    ":::"
   ]
  },
  {
   "cell_type": "code",
   "execution_count": null,
   "metadata": {},
   "outputs": [],
   "source": [
    "# 총 카운트 정규화\n",
    "sc.pp.normalize_total(adata, target_sum=1e4)\n",
    "# 데이터 로그 스케일 변환\n",
    "sc.pp.log1p(adata)\n",
    "# 고변동성 유전자 식별\n",
    "sc.pp.highly_variable_genes(adata, min_mean=0.0125, max_mean=3, min_disp=0.5)\n",
    "\n",
    "# 나중에 사용하기 위해 AnnData 객체의 .raw 속성을 정규화되고 로그 스케일링된 원시 유전자 발현으로 설정\n",
    "adata.raw = adata\n",
    "\n",
    "# 필터링 실행\n",
    "adata = adata[:, adata.var.highly_variable]\n",
    "\n",
    "# 각 세포의 총 카운트 및 발현된 미토콘드리아 유전자의 백분율 효과를 회귀로 제거하고 데이터를 단위 분산으로 스케일링\n",
    "sc.pp.regress_out(adata, [\"total_counts\", \"pct_counts_mt\"])\n",
    "# 각 유전자를 단위 분산으로 스케일링하고 표준 편차가 10을 초과하는 값을 클리핑\n",
    "sc.pp.scale(adata, max_value=10)\n",
    "# PCA 수행\n",
    "sc.tl.pca(adata, svd_solver=\"arpack\")\n",
    "# 이웃 찾기\n",
    "sc.pp.neighbors(adata, n_neighbors=10, n_pcs=40)\n",
    "# UMAP 수행\n",
    "sc.tl.umap(adata)\n",
    "# Leiden 알고리즘을 사용하여 클러스터링 수행\n",
    "sc.tl.leiden(\n",
    "    adata,\n",
    "    resolution=0.4,\n",
    "    random_state=42,\n",
    ")\n",
    "\n",
    "# 처리된 데이터셋 반환\n",
    "adata"
   ]
  },
  {
   "cell_type": "markdown",
   "metadata": {},
   "source": [
    "이제 유전자의 갯수가 13,714개에서 1,838개로 줄어다는 것을 알 수 있습니다.\n",
    "\n",
    "## UMAP 그리기"
   ]
  },
  {
   "cell_type": "code",
   "execution_count": null,
   "metadata": {},
   "outputs": [],
   "source": [
    "# UMAP 시각화\n",
    "sc.pl.umap(\n",
    "    adata,\n",
    "    color=\"leiden\",  # 클러스터링 결과에 따라 색상 지정\n",
    "    add_outline=True,  # 클러스터 경계 추가\n",
    "    legend_loc=\"on data\",  # 범례 위치 설정\n",
    "    legend_fontsize=12,  # 범례 글꼴 크기 설정\n",
    "    legend_fontoutline=2,  # 범례 글꼴 외곽선 굵기 설정\n",
    "    frameon=False,  # 테두리 제거\n",
    "    palette=\"Set1\",  # 색상 팔레트 설정\n",
    ")"
   ]
  },
  {
   "cell_type": "markdown",
   "metadata": {},
   "source": [
    "이 데이터셋은 이미 많이 알려진 것이라. 클러스터에 대한 마커 유전자를 찾고 어떤 세포인지 알아내는 과정은 생략하겠습니다. \n",
    "\n",
    "아래와 같이 수동으로 이름을 지정해줍니다. 숫자로 표시되는 각각의 클러스터에 대하여 아래 코드를 통해 이름을 붙여줍니다.\n"
   ]
  },
  {
   "cell_type": "code",
   "execution_count": null,
   "metadata": {},
   "outputs": [],
   "source": [
    "new_cluster_names = [\n",
    "    \"CD4T\",  # CD4T 세포\n",
    "    \"Monocytes\",  # 단핵구\n",
    "    \"CD8T\",  # CD8T 세포\n",
    "    \"B cells\",  # B 세포\n",
    "    \"Dendritic\",  # 수상돌기세포\n",
    "    \"Megakaryocytes\",  # 거대혈소판세포\n",
    "]\n",
    "adata.rename_categories(\"leiden\", new_cluster_names)\n",
    "\n",
    "# 클러스터링된 세포의 UMAP 다시 시각화\n",
    "sc.pl.umap(\n",
    "    adata,\n",
    "    color=\"leiden\",  # 클러스터링 결과에 따라 색상 지정\n",
    "    add_outline=True,  # 클러스터 경계 추가\n",
    "    legend_loc=\"on data\",  # 범례 위치 설정\n",
    "    legend_fontsize=12,  # 범례 글꼴 크기 설정\n",
    "    legend_fontoutline=2,  # 범례 글꼴 외곽선 굵기 설정\n",
    "    frameon=False,  # 테두리 제거\n",
    "    palette=\"Set1\",  # 색상 팔레트 설정\n",
    ")"
   ]
  },
  {
   "cell_type": "markdown",
   "metadata": {},
   "source": [
    "이후 데이터를 다시 읽어왔을때와 동일한지 확인하기 위해 `adata` 객체에 포함되어 있는 메타데이터의 데이터형을 확인합니다. "
   ]
  },
  {
   "cell_type": "code",
   "execution_count": null,
   "metadata": {},
   "outputs": [],
   "source": [
    "# adata 메타데이터의 데이터 타입\n",
    "adata.obs.dtypes"
   ]
  },
  {
   "cell_type": "markdown",
   "metadata": {},
   "source": [
    "## H5AD 파일로 저장하기\n",
    "\n",
    "AnnData 객체를 저장할때는 H5AD(Hierarchical Data Format 5) 파일을 사용합니다. 이 파일 형식은 대용량 데이터셋의 주요 구성 요소(예: 표현형 데이터, 주석, 메타데이터)를 계층적으로 구조화해서  효율적으로 저장하고 처리할 수 있게 해 줍니다.\n"
   ]
  },
  {
   "cell_type": "code",
   "execution_count": null,
   "metadata": {},
   "outputs": [],
   "source": [
    "# 분석 결과를 저장할 파일 경로\n",
    "output_path = \"../output/pbmc3k/\"\n",
    "# `compression='gzip'`는 디스크 공간을 절약하지만 쓰기와 이후의 읽기가 약간 느려집니다.\n",
    "adata.write(output_path + \"pbmc3k.h5ad\", compression=\"gzip\")"
   ]
  },
  {
   "cell_type": "markdown",
   "metadata": {},
   "source": [
    "## H5AD 파일 다시 불러오기\n",
    "\n",
    "`sc.read_h5ad` 함수는 H5AD 파일 형식을 AnnData 객체로 직접 불러옵니다."
   ]
  },
  {
   "cell_type": "code",
   "execution_count": null,
   "metadata": {},
   "outputs": [],
   "source": [
    "# 저장했던 h5ad파일을 다시 불러옵니다.\n",
    "adata = sc.read_h5ad(output_path + \"pbmc3k.h5ad\")\n",
    "adata"
   ]
  },
  {
   "cell_type": "markdown",
   "metadata": {},
   "source": [
    "데이터를 다시 불러와보니 유전자의 갯수가 1,838개입니다. `highly variable` 유전자가 아닌 원래 유전자 데이터로 되돌리려면 아래와 같이 해줍니다."
   ]
  },
  {
   "cell_type": "code",
   "execution_count": null,
   "metadata": {},
   "outputs": [],
   "source": [
    "# AnnData 객체를 불러온 후 원시 데이터로 변환\n",
    "adata = adata.raw.to_adata()\n",
    "adata"
   ]
  },
  {
   "cell_type": "markdown",
   "metadata": {},
   "source": [
    "이제 유전자의 갯수가 13,714개로 돌아왔습니다.\n",
    "\n",
    "# `AnnData` to `10X MEX`\n",
    "\n",
    "`10X MEX format` 으로 저장하는 방법은 아래와 같습니다."
   ]
  },
  {
   "cell_type": "code",
   "execution_count": null,
   "metadata": {},
   "outputs": [],
   "source": [
    "# genes.tsv 로 유전자 정보 저장\n",
    "df_genes = adata.var.gene_ids.reset_index()\n",
    "df_genes.set_index(\"gene_ids\").to_csv(\n",
    "    output_path + \"genes.tsv\",\n",
    "    sep=\"\\t\",\n",
    "    index=True,\n",
    "    header=False,\n",
    ")\n",
    "\n",
    "# barcodes.tsv 로 저장\n",
    "pd.DataFrame(adata.obs.index).to_csv(\n",
    "    output_path + \"barcodes.tsv\",\n",
    "    sep=\"\\t\",\n",
    "    index=False,\n",
    "    header=False,\n",
    ")\n",
    "# UMAP 좌표 저장\n",
    "pd.DataFrame(adata.obsm[\"X_umap\"], index=adata.obs_names).to_csv(\n",
    "    output_path + \"UMAP.tsv\",\n",
    "    sep=\"\\t\",\n",
    "    index=True,\n",
    "    header=True,\n",
    ")\n",
    "# 메타 데이터 저장\n",
    "adata.obs.to_csv(\n",
    "    output_path + \"metadata.tsv\",\n",
    "    sep=\"\\t\",\n",
    "    index=True,\n",
    ")\n",
    "# mtx 희소 행렬 저장, Transpose 필요\n",
    "scipy.io.mmwrite(output_path + \"matrix.mtx\", adata.X.T)"
   ]
  },
  {
   "cell_type": "markdown",
   "metadata": {},
   "source": [
    "`output_path`에 파일이 5개 생겼을 것입니다. \n",
    "\n",
    "# 다시 `10X MEX` to `AnnData`\n",
    "\n",
    "다시 `10X MEX format` 데이터를 읽어서 `AnnData`객체를 만들어 봅니다. 2가지 방법으로 해보겠습니다. 첫번째는 기존에 `read_10x_mtx()`함수를 사용하는 방법이고 두번째는 수작업으로 각각의 데이터를 합치는 방법입니다.\n",
    "\n",
    "## `read_10x_mtx()`함수 사용\n",
    "\n",
    "만약 다른 분석 도구를 통해 처리된 데이터의 경우라면 그리 추천하지는 않는 방법입니다."
   ]
  },
  {
   "cell_type": "code",
   "execution_count": null,
   "metadata": {},
   "outputs": [],
   "source": [
    "# 데이터 읽기\n",
    "adata = sc.read_10x_mtx(\n",
    "    output_path,  # `.mtx` 파일이 있는 디렉토리\n",
    "    var_names=\"gene_symbols\",  # 변수 이름에 유전자 기호 사용 (변수 축 인덱스)\n",
    ")\n",
    "\n",
    "# `sc.read_10x_mtx`에서 `var_names='gene_ids'`를 사용하는 경우 이 작업이 필요하지 않음\n",
    "adata.var_names_make_unique()\n",
    "adata"
   ]
  },
  {
   "cell_type": "markdown",
   "metadata": {},
   "source": [
    "`adata.var` 출력을 확인해 정상적으로 유전자 이름을 불러왔는지도 확인합니다."
   ]
  },
  {
   "cell_type": "code",
   "execution_count": null,
   "metadata": {},
   "outputs": [],
   "source": [
    "adata.var"
   ]
  },
  {
   "cell_type": "markdown",
   "metadata": {},
   "source": [
    "기존에 작업한 메타데이터와 UMAP 좌표 정보도 불러옵니다."
   ]
  },
  {
   "cell_type": "code",
   "execution_count": null,
   "metadata": {},
   "outputs": [],
   "source": [
    "# 세포 메타데이터 불러오기\n",
    "cell_meta = pd.read_csv(output_path + \"metadata.tsv\", sep=\"\\t\", index_col=0)\n",
    "# AnnData 객체에 메타데이터 및 변수 이름 설정\n",
    "adata.obs = cell_meta\n",
    "\n",
    "# UMAP 데이터 불러오기\n",
    "umap = pd.read_csv(\n",
    "    output_path + \"UMAP.tsv\",\n",
    "    sep=\"\\t\",\n",
    "    index_col=0,\n",
    ")\n",
    "# UMAP 데이터 설정\n",
    "adata.obsm[\"X_umap\"] = umap.loc[adata.obs.index].values\n",
    "adata"
   ]
  },
  {
   "cell_type": "markdown",
   "metadata": {},
   "source": [
    "위 결과를 통해 정상적으로 데이터를 불러왔음을 확인 할 수 있습니다.\n",
    "\n",
    "## 수작업으로 `Anndata` 객체를 만드는 방법\n",
    "\n",
    "수작업을 통해 만드는 방법을 해봅니다. `10X MEX format`과 동일하지는 않지만 유사한 형태의 경우에는 이 방법이 유용합니다."
   ]
  },
  {
   "cell_type": "code",
   "execution_count": null,
   "metadata": {},
   "outputs": [],
   "source": [
    "# mtx 희소 행렬 불러오기\n",
    "X = mmread(output_path + \"matrix.mtx\")\n",
    "\n",
    "# AnnData 객체 생성\n",
    "adata = anndata.AnnData(X=X.transpose().tocsr())\n",
    "\n",
    "# 세포 메타데이터 불러오기\n",
    "cell_meta = pd.read_csv(output_path + \"metadata.tsv\", sep=\"\\t\", index_col=0)\n",
    "\n",
    "# 유전자 이름 불러오기\n",
    "gene_names = pd.read_csv(\n",
    "    output_path + \"genes.tsv\",\n",
    "    sep=\"\\t\",\n",
    "    index_col=None,\n",
    "    header=None,\n",
    "    names=[\"gene_ids\", \"gene_symbols\"],\n",
    ")\n",
    "\n",
    "# 바코드 불러오기\n",
    "barcodes = pd.read_csv(\n",
    "    input_path + \"barcodes.tsv\",\n",
    "    sep=\"\\t\",\n",
    "    index_col=0,\n",
    "    header=None,\n",
    ")\n",
    "\n",
    "# AnnData 객체에 메타데이터 및 변수 이름 설정\n",
    "adata.obs = cell_meta\n",
    "adata.obs.index = list(barcodes.index)\n",
    "adata.var.index = gene_names[\"gene_symbols\"].values\n",
    "adata.var[\"gene_ids\"] = gene_names[\"gene_ids\"].values\n",
    "\n",
    "# UMAP 데이터 불러오기\n",
    "umap = pd.read_csv(\n",
    "    output_path + \"UMAP.tsv\",\n",
    "    sep=\"\\t\",\n",
    "    index_col=0,\n",
    ")\n",
    "# UMAP 데이터 설정\n",
    "adata.obsm[\"X_umap\"] = umap.loc[adata.obs.index].values\n",
    "\n",
    "# adata 데이터 확인\n",
    "adata"
   ]
  },
  {
   "cell_type": "markdown",
   "metadata": {},
   "source": [
    "### 메타 데이터의 데이터형 확인하기\n",
    "\n",
    "위의 방법을 통해 메타 데이터를 불러오면 데이터의 형이 잘못 지정되는 경우가 있습니다."
   ]
  },
  {
   "cell_type": "code",
   "execution_count": null,
   "metadata": {},
   "outputs": [],
   "source": [
    "# adata.obs의 데이터 타입 확인\n",
    "adata.obs.dtypes"
   ]
  },
  {
   "cell_type": "markdown",
   "metadata": {},
   "source": [
    "예를 들면 `leiden` 클러스터는 기본적으로 숫자로 지정되는데 다시 불러오는 과정 중에 `category`가 아닌 `int`형으로 되는 경우가 있습니다. 이번에는 `object`로 되어 있습니다. 아래와 같이 `category`로 수정해줍니다.   "
   ]
  },
  {
   "cell_type": "code",
   "execution_count": null,
   "metadata": {},
   "outputs": [],
   "source": [
    "# adata.obs의 'leiden' 열을 범주형으로 변환한 후 데이터 타입 확인\n",
    "adata.obs.astype({\"leiden\": \"category\"}).dtypes"
   ]
  },
  {
   "cell_type": "markdown",
   "metadata": {},
   "source": [
    "UMAP을 그려서 마지막으로 확인해 봅니다."
   ]
  },
  {
   "cell_type": "code",
   "execution_count": null,
   "metadata": {},
   "outputs": [],
   "source": [
    "# UMAP 시각화\n",
    "sc.pl.umap(\n",
    "    adata,\n",
    "    color=\"leiden\",  # 클러스터링 결과에 따라 색상 지정\n",
    "    add_outline=True,  # 클러스터 경계 추가\n",
    "    legend_loc=\"on data\",  # 범례 위치 설정\n",
    "    legend_fontsize=12,  # 범례 글꼴 크기 설정\n",
    "    legend_fontoutline=2,  # 범례 글꼴 외곽선 굵기 설정\n",
    "    frameon=False,  # 테두리 제거\n",
    "    palette=\"Set1\",  # 색상 팔레트 설정\n",
    ")"
   ]
  },
  {
   "cell_type": "markdown",
   "metadata": {},
   "source": [
    "UMAP이 문제없이 재현되는 것을 확인 할 수 있습니다.\n",
    "\n",
    "# 나가며\n",
    "\n",
    "단일세포 RNA 시퀀싱(scRNA-seq) 분야는 빠르게 발전하고 있지만, 여전히 표준화되지 않은 측면이 많습니다. 이는 여러 이유로 설명될 수 있습니다. 그 중에서도 표준화된 프로토콜을 개발하기가 어렵다는 것이 큰 이유라고 생각합니다.\n",
    "\n",
    "따라서, 현재는 위에서 살펴본 방법처럼 가장 단순한 `mtx`으로 되돌리는 방법을 통해 데이터를 변환하는 것이 최선으로 보여집니다."
   ]
  }
 ],
 "metadata": {
  "kernelspec": {
   "display_name": "scanpy",
   "language": "python",
   "name": "python3"
  },
  "language_info": {
   "codemirror_mode": {
    "name": "ipython",
    "version": 3
   },
   "file_extension": ".py",
   "mimetype": "text/x-python",
   "name": "python",
   "nbconvert_exporter": "python",
   "pygments_lexer": "ipython3",
   "version": "3.11.4"
  }
 },
 "nbformat": 4,
 "nbformat_minor": 2
}
