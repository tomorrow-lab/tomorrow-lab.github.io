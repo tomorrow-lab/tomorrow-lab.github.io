{
 "cells": [
  {
   "cell_type": "raw",
   "metadata": {
    "vscode": {
     "languageId": "raw"
    }
   },
   "source": [
    "---\n",
    "title: \"Scanpy로 scRNA-seq 분석 05\"\n",
    "author: \"Taeyoon Kim\"\n",
    "categories: [Python, scRNA-seq, Bioinformatics, Scanpy, Workshop]\n",
    "date: 2024-08-10\n",
    "draft: false\n",
    "date-modified: last-modified\n",
    "---"
   ]
  },
  {
   "cell_type": "markdown",
   "metadata": {},
   "source": [
    "![](logo_scanpy.svg){width=50% fig-align=\"center\"}\n",
    "\n",
    "클러스터링으로 scRNA-seq 데이터를 여러 그룹으로 나눈 뒤에는 해당 그룹이 어떤 세포인지 아는 것은 분석 결과를 해석할 때 중요합니다. 세포 유형을 예측하는 방법에는 크게 두 가지 방법이 있습니다. 레퍼런스 scRNA-seq 데이터를 사용해 유사도를 비교하는 방법과 알려진 마커 유전자를 사용해 직접 세포 유형을 지정하는 방법입니다. 레퍼런스 데이터는 이미 세포 유형의 전사체 표현 데이터를 말합니다. 이 데이터를 사용하여 클러스터링된 세포들의 전사체 표현 패턴을 레퍼런스 데이터와 비교하여 가장 유사한 세포 유형을 예측합니다. 여기서는 가장 간단한 `ingest` 방법을 사용해봅니다.\n",
    "\n",
    "# 들어가며\n",
    "\n",
    "먼저, 필요한 라이브러리를 로드합니다."
   ]
  },
  {
   "cell_type": "code",
   "execution_count": null,
   "metadata": {},
   "outputs": [],
   "source": [
    "import warnings\n",
    "\n",
    "import gseapy\n",
    "import matplotlib.pyplot as plt\n",
    "import pandas as pd\n",
    "import scanpy as sc\n",
    "\n",
    "# 경고 무시하기\n",
    "warnings.filterwarnings(\"ignore\")\n",
    "sc.settings.n_jobs = -1\n",
    "sc.settings.verbosity = 0  # 오류 (0), 경고 (1), 정보 (2), 힌트 (3)\n",
    "sc.settings.set_figure_params(\n",
    "    dpi=60, frameon=False, figsize=(5, 5), facecolor=\"white\", color_map=\"viridis_r\"\n",
    ")\n",
    "print(f\"사용한 SCANPY 버전: {sc.__version__}\")"
   ]
  },
  {
   "cell_type": "markdown",
   "metadata": {},
   "source": [
    "# 레퍼런스 데이터 불러오기\n",
    "\n",
    "`scanpy.datasets`함수를 사용해 레퍼런스로 사용할 `pbmc3k`데이터를 불러옵니다. 여기서 주의할 점은 레퍼런스 데이터와 실험 데이터는 비슷한 실험 조건을 가져야 한다는 것입니다. 예를 들어, 레퍼런스 데이터가 10X Genomics의 Chromium 플랫폼으로 생성되었다면, 실험 데이터도 동일한 플랫폼으로 생성되어야 합니다. 이는 플랫폼 간의 차이로 인해 발생하는 바이어스를 최소화하기 위함입니다."
   ]
  },
  {
   "cell_type": "code",
   "execution_count": null,
   "metadata": {},
   "outputs": [],
   "source": [
    "adata_ref = sc.datasets.pbmc3k_processed()\n",
    "adata_ref.obs[\"sample\"] = \"pbmc3k\"\n",
    "adata_ref"
   ]
  },
  {
   "cell_type": "code",
   "execution_count": null,
   "metadata": {},
   "outputs": [],
   "source": [
    "print(adata_ref.shape)\n",
    "adata_ref.obs.head()"
   ]
  },
  {
   "cell_type": "code",
   "execution_count": null,
   "metadata": {},
   "outputs": [],
   "source": [
    "sc.pl.umap(adata_ref, color=[\"louvain\"])"
   ]
  },
  {
   "cell_type": "markdown",
   "metadata": {},
   "source": [
    "# 분석할 데이터 불러오기\n",
    "\n",
    "클러스터링 단계에서 저장된 코로나19 데이터 개체를 읽어와 보겠습니다."
   ]
  },
  {
   "cell_type": "code",
   "execution_count": null,
   "metadata": {},
   "outputs": [],
   "source": [
    "path_file = \"./output/covid/results/scanpy_covid_qc_dr_sc_cl.h5ad\"\n",
    "adata = sc.read_h5ad(path_file)\n",
    "adata.obs[\"sample\"] = \"covid\"\n",
    "adata"
   ]
  },
  {
   "cell_type": "code",
   "execution_count": null,
   "metadata": {},
   "outputs": [],
   "source": [
    "# adata.uns[\"log1p\"][\"base\"] = None\n",
    "print(adata.shape)"
   ]
  },
  {
   "cell_type": "code",
   "execution_count": null,
   "metadata": {},
   "outputs": [],
   "source": [
    "sc.pl.umap(adata, color=[\"louvain_0.6\"])"
   ]
  },
  {
   "cell_type": "markdown",
   "metadata": {},
   "source": [
    "# Ingest로 예측하기\n",
    "\n",
    "세포 유형 예측을 위한 또 다른 방법은 Ingest이며, 자세한 내용은 [링크](https://scanpy-tutorials.readthedocs.io/en/latest/integrating-data-using-ingest.html)을 참조하세요. 먼저 두 데이터 집합에 동일한 유전자가 있는지 확인합니다."
   ]
  },
  {
   "cell_type": "code",
   "execution_count": null,
   "metadata": {},
   "outputs": [],
   "source": [
    "var_names = adata_ref.var_names.intersection(adata.var_names)\n",
    "print(f\"타겟 데이터의 유전자 수: {adata.shape[1]}\")\n",
    "print(f\"레퍼런스 데이터의 유전자 수: {adata_ref.shape[1]}\")\n",
    "print(f\"타겟과 레퍼런스 데이터에서 중첩되는 유전자 수: {len(var_names)}\")"
   ]
  },
  {
   "cell_type": "markdown",
   "metadata": {},
   "source": [
    "먼저 두 데이터 세트에 대해 동일한 유전자 세트를 사용하여 `pca`와 `umap`을 다시 실행해야 합니다.\n",
    "데이터 세트에 대해 동일한 유전자 세트로 다시 실행해야 합니다."
   ]
  },
  {
   "cell_type": "code",
   "execution_count": null,
   "metadata": {},
   "outputs": [],
   "source": [
    "adata_ref_ = adata_ref[:, var_names]\n",
    "adata_target_ = adata[:, var_names]\n",
    "\n",
    "sc.pp.pca(adata_ref_)\n",
    "sc.pp.neighbors(adata_ref_)\n",
    "sc.tl.umap(adata_ref_)\n",
    "sc.pp.pca(adata_target_)\n",
    "sc.pp.neighbors(adata_target_)\n",
    "sc.tl.umap(adata_target_)\n",
    "sc.tl.ingest(adata_target_, adata_ref_, obs=\"louvain\")\n",
    "\n",
    "# to fix colors\n",
    "adata_target_.uns[\"louvain_colors\"] = adata_ref_.uns[\"louvain_colors\"]\n",
    "sc.pl.umap(adata_target_, color=[\"louvain\", \"louvain_0.6\"], wspace=0.5)"
   ]
  },
  {
   "cell_type": "code",
   "execution_count": null,
   "metadata": {},
   "outputs": [],
   "source": [
    "adata_concat = adata_ref_.concatenate(adata_target_, batch_categories=[\"ref\", \"target\"])\n",
    "adata_concat.obs.louvain = adata_concat.obs.louvain.astype(\"category\")\n",
    "# fix category ordering\n",
    "adata_concat.obs.louvain.cat.reorder_categories(\n",
    "    adata_ref.obs.louvain.cat.categories,\n",
    ")\n",
    "# fix category colors\n",
    "adata_concat.uns[\"louvain_colors\"] = adata_ref.uns[\"louvain_colors\"]\n",
    "sc.pl.umap(adata_concat, color=[\"batch\", \"louvain\"])"
   ]
  },
  {
   "cell_type": "markdown",
   "metadata": {},
   "source": [
    "임베딩에서 그룹의 Density plot 하위 집합을 부분적으로 시각화하기"
   ]
  },
  {
   "cell_type": "code",
   "execution_count": null,
   "metadata": {},
   "outputs": [],
   "source": [
    "sc.tl.embedding_density(adata_concat, groupby=\"batch\")\n",
    "sc.pl.embedding_density(adata_concat, groupby=\"batch\", ncols=2)"
   ]
  },
  {
   "cell_type": "markdown",
   "metadata": {},
   "source": [
    "각각의 `leiden_0.6` 클러스터에 어떤 세포 유형들이 들어 있는지 막대 그래프를 그려봅니다."
   ]
  },
  {
   "cell_type": "code",
   "execution_count": null,
   "metadata": {},
   "outputs": [],
   "source": [
    "def plot_stacked_bar(data, index_col, columns_col, legend_position):\n",
    "    tmp = pd.crosstab(data.obs[index_col], data.obs[columns_col], normalize=\"index\")\n",
    "    ax = tmp.plot.bar(stacked=True, grid=False, width=0.8)\n",
    "    ax.legend(bbox_to_anchor=legend_position, loc=\"upper right\", frameon=False)\n",
    "    ax.set_xlabel(index_col)\n",
    "    ax.set_ylabel(\"Fraction of cells\")\n",
    "    ax.set_title(columns_col)\n",
    "    return ax\n",
    "\n",
    "\n",
    "ax = plot_stacked_bar(adata_concat, \"louvain_0.6\", \"louvain\", (1.6, 1))\n",
    "plt.show()"
   ]
  },
  {
   "cell_type": "code",
   "execution_count": null,
   "metadata": {},
   "outputs": [],
   "source": [
    "pred_ingest = adata_concat[adata_concat.obs[\"batch\"] == \"target\"].obs[\"louvain\"]\n",
    "# 인덱스에서 '-target' 제거\n",
    "pred_ingest.index = pred_ingest.index.str.replace(\"-target\", \"\", regex=False)\n",
    "\n",
    "adata.obs[\"pred_ingest\"] = pred_ingest\n",
    "\n",
    "sc.pl.umap(adata, color=[\"louvain_0.6\", \"pred_ingest\"], ncols=2)"
   ]
  },
  {
   "cell_type": "markdown",
   "metadata": {},
   "source": [
    "위 시각화 결과를 보면 어떤 클러스터는 명확한 예측 결과를 보여지만 다른 클러스터에서는 여러 세포유형의 섞여있는 것으로 보입니다. 이런 경우에는 해당 클러스터에 속한 세포들이 어떤 유전자를 발현하는지 살펴보고 생물학적 지식을 활용해 결정해야 합니다.\n",
    "\n",
    "# 마커 유전자를 사용해 예측하기\n",
    "\n",
    "세포 유형을 예측하는데 가장 많이 사용되는 방법은 알려진 마커 유전자 목록과 비교해보는 방법입니다. 이 방법을 위해서는 신뢰할 수 있고 분석중인 샘플과 연관된 마커 유전자 목록이 필요합니다. 여기서는 사람 세포의 마커 유전자 목록을 불러와 사용하겠습니다."
   ]
  },
  {
   "cell_type": "code",
   "execution_count": null,
   "metadata": {},
   "outputs": [],
   "source": [
    "# 사람 세포 마커 유전자 목록 불러오기\n",
    "path_file = \"./input/human_cell_markers.txt\"\n",
    "df = pd.read_table(path_file)\n",
    "print(df.shape)"
   ]
  },
  {
   "cell_type": "markdown",
   "metadata": {},
   "source": [
    "파일에는 2868개의 유전자가 포함되어 있네요. 세포 유형 예측을 위해 약간의 수정을 통해 `gene_dict` 객체를 만들어 줍니다."
   ]
  },
  {
   "cell_type": "code",
   "execution_count": null,
   "metadata": {},
   "outputs": [],
   "source": [
    "# 세포 유형별 유전자 수에 대한 필터링\n",
    "df[\"nG\"] = df.geneSymbol.str.split(\",\").str.len()\n",
    "\n",
    "df = df[df[\"nG\"] > 5]\n",
    "df = df[df[\"nG\"] < 100]\n",
    "df = df[df[\"cancerType\"] == \"Normal\"]\n",
    "\n",
    "df.index = df.cellName\n",
    "gene_dict = df.geneSymbol.str.split(\",\").to_dict()\n",
    "\n",
    "df.head()"
   ]
  },
  {
   "cell_type": "markdown",
   "metadata": {},
   "source": [
    "이제 `gseapy.enrichr` 함수를 사용해 위에서 만든 `gene_dict`과 `louvain_0.6`의 DEG 목록과 비교해 세포 유형을 예측합니다."
   ]
  },
  {
   "cell_type": "code",
   "execution_count": null,
   "metadata": {},
   "outputs": [],
   "source": [
    "# 클러스터별로 DEG 분석\n",
    "sc.tl.rank_genes_groups(adata, \"louvain_0.6\", method=\"wilcoxon\", key_added=\"wilcoxon\")\n",
    "\n",
    "gsea_res = {}\n",
    "pred = {}\n",
    "\n",
    "for cl in adata.obs[\"louvain_0.6\"].cat.categories.tolist():\n",
    "    glist = (\n",
    "        sc.get.rank_genes_groups_df(adata, group=cl, key=\"wilcoxon\")[\"names\"]\n",
    "        .squeeze()\n",
    "        .str.strip()\n",
    "        .tolist()\n",
    "    )\n",
    "    enr_res = gseapy.enrichr(\n",
    "        gene_list=glist[:300],\n",
    "        organism=\"Human\",\n",
    "        gene_sets=gene_dict,\n",
    "        background=adata.layers[\"counts\"].shape[1],\n",
    "        cutoff=1,\n",
    "    )\n",
    "    if enr_res.results.shape[0] == 0:\n",
    "        pred[cl] = \"Unass\"\n",
    "    else:\n",
    "        enr_res.results.sort_values(by=\"P-value\", axis=0, ascending=True, inplace=True)\n",
    "        gsea_res[cl] = enr_res\n",
    "        pred[cl] = enr_res.results[\"Term\"][0]\n",
    "\n",
    "pred"
   ]
  },
  {
   "cell_type": "markdown",
   "metadata": {},
   "source": [
    "예측된 결과를 시각화로 살펴봅니다."
   ]
  },
  {
   "cell_type": "code",
   "execution_count": null,
   "metadata": {},
   "outputs": [],
   "source": [
    "prediction = [pred[x] for x in adata.obs[\"louvain_0.6\"]]\n",
    "adata.obs[\"GS_overlap_pred\"] = prediction\n",
    "\n",
    "sc.pl.umap(adata, color=\"GS_overlap_pred\")"
   ]
  },
  {
   "cell_type": "markdown",
   "metadata": {},
   "source": [
    "# 임의로 셀타입 지정\n",
    "\n",
    "위에서 얻은 결과를 통해 세포 유형을 지정하고 시각화 해봅니다."
   ]
  },
  {
   "cell_type": "code",
   "execution_count": null,
   "metadata": {},
   "outputs": [],
   "source": [
    "# 임의로 주석\n",
    "cluster_annotations = {\n",
    "    \"0\": \"CD14+ Monocyte\",\n",
    "    \"1\": \"CD4T cell\",\n",
    "    \"2\": \"CD4T cell\",\n",
    "    \"3\": \"CD8T cell\",\n",
    "    \"4\": \"NK cell\",\n",
    "    \"5\": \"B cell\",\n",
    "    \"6\": \"CD14+ Monocyte\",\n",
    "    \"7\": \"B cell\",\n",
    "    \"8\": \"FCGR3A+ Monocyte\",\n",
    "    \"9\": \"CD4T cell\",\n",
    "    \"10\": \"Circulating fetal cell\",\n",
    "    \"11\": \"Circulating fetal cell\",\n",
    "}\n",
    "\n",
    "adata.obs[\"cell_type\"] = adata.obs[\"louvain_0.6\"].map(cluster_annotations)\n",
    "\n",
    "# 주석 확인\n",
    "sc.pl.umap(adata, color=[\"louvain_0.6\", \"cell_type\"])"
   ]
  },
  {
   "cell_type": "markdown",
   "metadata": {},
   "source": [
    "# 유전자 세트 분석(GSA)\n",
    "\n",
    "유전자 세트 분석(Gene Set Analysis, GSA)은 생물학적 의미를 해석하기 위해 미리 정의된 유전자 집합을 사용하는 방법입니다. GSA는 일반적으로 다음과 같은 절차를 따릅니다:\n",
    "\n",
    "1. **유전자 집합 정의**: 특정 생물학적 경로, 기능, 질병 등과 관련된 유전자 리스트를 만듭니다.\n",
    "2. **데이터 준비**: 유전자 발현 데이터나 유전자 변이 데이터를 수집합니다.\n",
    "3. **유전자 집합 평가**: 특정 조건에서 유전자 집합의 발현 수준이나 변이 정도를 평가합니다.\n",
    "4. **통계 분석**: 유의미한 변화를 보이는 유전자 집합을 찾기 위해 통계적 방법을 사용합니다.\n",
    "\n",
    "GSA의 주요 장점은 개별 유전자보다 유전자 집합 전체를 분석하여 생물학적 해석을 더 명확하게 할 수 있다는 점입니다. 이는 연구자가 특정 조건에서 어떤 경로나 기능이 활성화되었는지 이해하는 데 도움을 줍니다.\n",
    "\n",
    "## Over-representation analysis (ORA)\n",
    "\n",
    "ORA는 주어진 유전자 목록에서 특정 기능이나 경로에 속하는 유전자들이 과발현 되는지를 평가하는 방법입니다. ORA는 특정 생물학적 기능이나 경로와 관련된 유전자들이 관심 있는 유전자 목록에서 통계적으로 유의미하게 많이 포함되어 있는지 확인합니다. 이를 통해 특정 생물학적 기능이나 경로가 실험 조건에서 중요한 역할을 하는지 파악할 수 있습니다. ORA을 하면 유의미성을 나타내는 `p-value`와 함께 과도하게 나타나는 유전자 집합 결과를 얻습니다. 다만 유전자 발현 수준이나 경로의 구조를 고려하지 않는다는 한계점이 있습니다.\n",
    "\n",
    "이제 예시로 코로나 환자의 DEG를 사용하여 면역 반응, 염증 경로, 바이러스 복제와 관련된 경로들이 유의미하게 변화하는지를 살펴보겠습니다."
   ]
  },
  {
   "cell_type": "code",
   "execution_count": null,
   "metadata": {},
   "outputs": [],
   "source": [
    "sc.tl.rank_genes_groups(adata, \"type\", method=\"wilcoxon\", key_added=\"wilcoxon\")\n",
    "sc.pl.rank_genes_groups(\n",
    "    adata,\n",
    "    n_genes=25,\n",
    "    sharey=False,\n",
    "    key=\"wilcoxon\",\n",
    "    ncols=3,\n",
    ")"
   ]
  },
  {
   "cell_type": "markdown",
   "metadata": {},
   "source": [
    "앞서 구한 DEG 목록을 `gseapy`에 넘겨서 ORA 분석을 진행합니다. 많이 사용되는 몇가지 데이터베이스 목록은 아래와 같습니다.\n",
    "\n",
    "- GO_Biological_Process_2018\n",
    "- KEGG_2019_Human\n",
    "- KEGG_2019_Mouse\n",
    "- WikiPathways_2019_Human\n",
    "- WikiPathways_2019_Mouse\n"
   ]
  },
  {
   "cell_type": "code",
   "execution_count": null,
   "metadata": {},
   "outputs": [],
   "source": [
    "# 가능한 데이터베이스 : ‘Human’, ‘Mouse’, ‘Yeast’, ‘Fly’, ‘Fish’, ‘Worm’\n",
    "gene_set_names = gseapy.get_library_name(organism=\"Human\")\n",
    "\n",
    "# ?gseapy.enrichr\n",
    "glist = (\n",
    "    sc.get.rank_genes_groups_df(\n",
    "        adata, group=\"Covid\", key=\"wilcoxon\", log2fc_min=0.25, pval_cutoff=0.05\n",
    "    )[\"names\"]\n",
    "    .squeeze()\n",
    "    .str.strip()\n",
    "    .tolist()\n",
    ")"
   ]
  },
  {
   "cell_type": "markdown",
   "metadata": {},
   "source": [
    "간단한 막대그래프를 사용해 결과를 시각화합니다."
   ]
  },
  {
   "cell_type": "code",
   "execution_count": null,
   "metadata": {},
   "outputs": [],
   "source": [
    "def plot_ora(\n",
    "    glist,\n",
    "    gene_set=\"GO_Biological_Process_2018\",\n",
    "    size=(4, 4),\n",
    "    color=\"darkred\",\n",
    "    truncate=True,\n",
    "):\n",
    "    enr_res = gseapy.enrichr(\n",
    "        gene_list=glist,\n",
    "        organism=\"Human\",\n",
    "        gene_sets=gene_set,\n",
    "        cutoff=0.5,\n",
    "    )\n",
    "    if truncate:\n",
    "        # True 시 뒤의 코드명 일부 제거.\n",
    "        enr_res.res2d[\"Term\"] = enr_res.res2d[\"Term\"].apply(lambda x: \" \".join(x.split(\" \")[:-1]))\n",
    "    ax = gseapy.barplot(\n",
    "        enr_res.res2d,\n",
    "        title=gene_set,\n",
    "        figsize=size,\n",
    "        color=color,\n",
    "    )\n",
    "    ax.grid(False)\n",
    "    return ax\n",
    "\n",
    "\n",
    "ax = plot_ora(\n",
    "    glist,\n",
    "    gene_set=\"GO_Biological_Process_2018\",\n",
    "    size=(4, 4),\n",
    "    color=\"darkred\",\n",
    "    truncate=True,\n",
    ")\n",
    "plt.show()"
   ]
  },
  {
   "cell_type": "code",
   "execution_count": null,
   "metadata": {},
   "outputs": [],
   "source": [
    "ax = plot_ora(glist, gene_set=\"KEGG_2019_Human\", size=(5, 4), color=\"darkred\", truncate=False)\n",
    "plt.show()"
   ]
  },
  {
   "cell_type": "code",
   "execution_count": null,
   "metadata": {},
   "outputs": [],
   "source": [
    "ax = plot_ora(\n",
    "    glist,\n",
    "    gene_set=\"WikiPathways_2019_Human\",\n",
    "    size=(4, 4),\n",
    "    color=\"darkred\",\n",
    "    truncate=True,\n",
    ")\n",
    "plt.show()"
   ]
  },
  {
   "cell_type": "markdown",
   "metadata": {},
   "source": [
    "## Functional Class Scoring (FCS) 분석\n",
    "\n",
    "ORA외에도 Functional Class Scoring(FCS) 분석을 진행 할 수 있습니다. FCS는 유전자 집합 내 발현 변화 또한 고려한 방법입니다. FCS 분석 중 유명한 방법이 유전자 세트 강화 분석(GSEA)입니다. GSEA는 각 유전자에 발현 변화(예: 로그 폴드 변화)를 기준으로 점수를 부여하고, 이 점수를 유전자 집합 내에서 합산하거나 평균을 구한 후, 무작위 분포(퍼뮤테이션 기반 또는 파라메트릭)와 비교합니다. 그 결과 (일반적으로 폴드 변화를 기반으로) 순위가 매겨진 유전자 목록을 점수화하고 순열 테스트를 계산하여 특정 유전자 세트가 상향 조절된 유전자에 더 많이 존재하는지, 하향 조절된 유전자에 더 많이 존재하는지, 아니면 차등 조절되지 않는지를 확인할 수 있습니다. 이 방법의 장점은 발현 수준을 고려하기 때문에 미묘한 효과도 포착할 수 있다는 것입니다. 다만 집합내 유전자들이 서로 독립이라는 가정해야 한다는 한계점이 있습니다.\n",
    "\n",
    "GSEA를 수행하기 위해서는 모든 차등 발현 유전자(DEG)와 그 로그 폴드 체인지를 포함한 테이블이 필요합니다."
   ]
  },
  {
   "cell_type": "code",
   "execution_count": null,
   "metadata": {},
   "outputs": [],
   "source": [
    "# Available databases : ‘Human’, ‘Mouse’, ‘Yeast’, ‘Fly’, ‘Fish’, ‘Worm’\n",
    "gene_set_names = gseapy.get_library_name(organism=\"Human\")\n",
    "\n",
    "gene_rank = sc.get.rank_genes_groups_df(adata, group=\"Covid\", key=\"wilcoxon\")[\n",
    "    [\"names\", \"logfoldchanges\"]\n",
    "]\n",
    "gene_rank.sort_values(by=[\"logfoldchanges\"], inplace=True, ascending=False)\n",
    "\n",
    "# 계산_qc_metrics는 유전자당 세포 수를 계산합니다.\n",
    "sc.pp.calculate_qc_metrics(adata, percent_top=None, log1p=False, inplace=True)\n",
    "\n",
    "# 최소 30개 이상의 세포에서 발현되는 유전자를 필터링합니다.\n",
    "gene_rank = gene_rank[gene_rank[\"names\"].isin(adata.var_names[adata.var.n_cells_by_counts > 30])]\n",
    "\n",
    "gene_rank"
   ]
  },
  {
   "cell_type": "markdown",
   "metadata": {},
   "source": [
    "다음으로 GSEA를 실행합니다. 그러면 여러 경로에 대한 정보가 포함된 테이블이 생성됩니다. 이 테이블을 `p-value` 또는 정규화된 강화 점수(NES) 기준으로 정렬하고 필터링하여 상위 경로만 시각화할 수 있습니다. 이 분석은 실험 조건에서 중요한 역할을 하는 주요 경로를 식별하고 분석할 수 있습니다."
   ]
  },
  {
   "cell_type": "code",
   "execution_count": null,
   "metadata": {},
   "outputs": [],
   "source": [
    "res = gseapy.prerank(rnk=gene_rank, gene_sets=\"KEGG_2021_Human\")\n",
    "\n",
    "terms = res.res2d.Term\n",
    "print(terms[:10])"
   ]
  },
  {
   "cell_type": "code",
   "execution_count": null,
   "metadata": {},
   "outputs": [],
   "source": [
    "gseapy.gseaplot(rank_metric=res.ranking, term=terms[0], **res.results[terms[0]])\n",
    "plt.show()"
   ]
  },
  {
   "cell_type": "markdown",
   "metadata": {},
   "source": [
    "위 결과를 보면 KEGG 데이터베이스의 `IL-17 signaling pathway` 경로가 과발현 되어 있다는 것을 알 수있습니다. `IL-17`은 염증 반응을 조절하는 중요한 사이토카인입니다. 이 경로의 상향 조절은 강한 염증 반응을 나타내며, 면역계가 병원체와 싸우는 과정에서 중요한 역할을 합니다. 따라서 이런 경로의 상향 조절은 염증, 면역 반응, 감염 및 대사질환과 관련된 중요한 생물학적 변화를 시사합니다.\n",
    "\n",
    "마지막으로, 다른 분석을 위해 데이터를 저장해 보겠습니다."
   ]
  },
  {
   "cell_type": "code",
   "execution_count": null,
   "metadata": {},
   "outputs": [],
   "source": [
    "save_file = \"./output/covid/results/scanpy_covid_annot.h5ad\"\n",
    "adata.write_h5ad(save_file, compression=\"gzip\")"
   ]
  },
  {
   "cell_type": "markdown",
   "metadata": {},
   "source": [
    "# 나가며\n",
    "\n",
    "지금까지 세포 유형 예측을 통해 클러스터의 세포 주석을 추가하고 유전자 세트 분석(GSA)을 수행하는 간단한 방법을 살펴보았습니다.\n",
    "클러스터에 정확한 주석을 추가하는 것은 어렵습니다. 그리고 빠르게 관련 기술이 발전되고 있기 때문에 지금은 이렇게 판단했다가도 나중에 옳지 않음이 밝혀지도 합니다. 그럼에도 데이터의 생물학적 의미를 명확하게 이해하기 위해서는 세포 유형에 대한 주석이 필수적입니다. 따라서 불완전하더라도 주석을 추가해 분석을 진행 할 수밖에 없습니다. 다음 과정에서는 세포 주석을 통해 좀 더 심화된 분석을 해보도록 하겠습니다."
   ]
  }
 ],
 "metadata": {
  "kernelspec": {
   "display_name": "Python 3 (ipykernel)",
   "language": "python",
   "name": "python3"
  },
  "language_info": {
   "codemirror_mode": {
    "name": "ipython",
    "version": 3
   },
   "file_extension": ".py",
   "mimetype": "text/x-python",
   "name": "python",
   "nbconvert_exporter": "python",
   "pygments_lexer": "ipython3",
   "version": "3.9.19"
  }
 },
 "nbformat": 4,
 "nbformat_minor": 4
}
