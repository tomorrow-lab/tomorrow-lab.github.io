{
 "cells": [
  {
   "cell_type": "raw",
   "metadata": {
    "vscode": {
     "languageId": "raw"
    }
   },
   "source": [
    "---\n",
    "title: \"Marsilea로 복잡한 시각화 처리하기\"\n",
    "author: \"Taeyoon Kim\"\n",
    "categories: [Python, Data science, Bioinformatics, Visualization]\n",
    "draft: false\n",
    "date: \"2024-04-20\"\n",
    "date-modified: last-modified\n",
    "---"
   ]
  },
  {
   "cell_type": "markdown",
   "metadata": {},
   "source": [
    "![](thumbnail_marsilea.png){width=70% fig-align=\"center\"}\n",
    "\n",
    "# 들어가며\n",
    "\n",
    "이 튜토리얼은 `Python`의 기본 지식을 갖고 있고 `NumPy`와 `Matplotlib`을 사용하는 방법을 알고 있다고 가정합니다. 특히 \n",
    "`Matplotlib`에서 `Figure` 및 `Axes`의 개념에 대해 알고 있는 것이 좋습니다."
   ]
  },
  {
   "cell_type": "code",
   "execution_count": null,
   "metadata": {},
   "outputs": [],
   "source": [
    "import warnings\n",
    "\n",
    "import marsilea as ma\n",
    "import marsilea.plotter as mp\n",
    "import matplotlib.pyplot as plt\n",
    "import numpy as np\n",
    "import pandas as pd\n",
    "\n",
    "# 경고 무시\n",
    "warnings.filterwarnings(\"ignore\")\n",
    "np.random.seed(42)"
   ]
  },
  {
   "cell_type": "markdown",
   "metadata": {},
   "source": [
    "# 기본 개념\n",
    "\n",
    "`Marsilea`는 멋진 레이아웃을 손쉽게 만들 수 있는 `Python` 패키지로 특히 다중 특성 데이터셋을 위해 설계되었습니다. 먼저 간단한 시각화를 만드는 작업부터 알아보겠습니다.\n",
    "\n",
    "먼저, `ClusterBoard`를 만듭니다. 이것은 그림을 추가할 수 있는 빈 캔버스로, 높이는 2이고 여백은 0.5로 초기화됩니다. 여백은 시각화가 저장될 때 시각화가 잘릴 것을 방지하기 위해 캔버스 주위에 여백을 유지하는 데 사용될 수 있습니다. `Marsilea`에서는 지정되지 않은 경우 단위가 인치로 설정됩니다.\n",
    "\n",
    "그런 다음 `add_layer()`를 사용하여 캔버스에 바이올린 플롯을 추가합니다. 마지막으로 `render()`를 호출하여 시각화를 그립니다."
   ]
  },
  {
   "cell_type": "code",
   "execution_count": null,
   "metadata": {},
   "outputs": [],
   "source": [
    "data = np.random.randn(8, 6)\n",
    "cb = ma.ClusterBoard(data, height=2, margin=0.5)\n",
    "cb.add_layer(mp.Violin(data, color=\"#FF6D60\"))\n",
    "cb.render()"
   ]
  },
  {
   "cell_type": "markdown",
   "metadata": {},
   "source": [
    "## 그룹화(Grouping)\n",
    "\n",
    "그룹화(Grouping)를 사용하면 데이터를 그룹으로 분류하고 각 그룹에 대한 시각화를 할 수 있습니다. 우리는 `vsplit()` 함수를 사용하여 캔버스를 세 그룹으로 나눕니다. `labels` 매개변수는 각 열에 대한 그룹을 지정합니다. `order` 매개변수는 플롯에 표시될 그룹의 순서를 지정합니다. 이제 그룹을 시각적으로 더 명확하게 만들기 위해 측면 플롯을 추가해 봅시다. 여기서 `spacing`은 캔버스 너비의 일부분을 나타냅니다.\n",
    "\n",
    "## 추가 구성 요소로 그룹 주석 달기\n",
    "\n",
    "우리는 `add_top()`을 사용하여 캔버스 상단에 `Chunk` 플롯을 추가합니다. `Chunk` 플롯은 그룹을 주석 처리하는 데 사용되는 주석 플롯입니다. 추가로 `size` 및 `pad` 매개변수를 사용하여 플롯의 크기와 플롯 간의 간격을 조정할 수 있습니다. 단위는 인치입니다.\n",
    "\n",
    ":::{.callout-note}\n",
    "텍스트를 그리는 Chunk와 같은 플롯의 경우 플롯의 크기가 자동으로 텍스트에 맞게 조정되므로 플롯의 크기를 지정할 필요가 없습니다.\n",
    ":::"
   ]
  },
  {
   "cell_type": "code",
   "execution_count": null,
   "metadata": {},
   "outputs": [],
   "source": [
    "cb.vsplit(labels=[\"c1\", \"c1\", \"c2\", \"c2\", \"c3\", \"c3\"], order=[\"c1\", \"c2\", \"c3\"], spacing=0.08)\n",
    "\n",
    "group_labels = mp.Chunk([\"c1\", \"c2\", \"c3\"], [\"#FF6D60\", \"#F7D060\", \"#F3E99F\"])\n",
    "cb.add_top(group_labels, size=0.2, pad=0.1)\n",
    "cb.render()"
   ]
  },
  {
   "cell_type": "markdown",
   "metadata": {},
   "source": [
    "## 계층적 클러스터링\n",
    "\n",
    "`add_dendrogram()`를 사용하여 캔버스 하단에 덴드로그램을 추가합니다. 덴드로그램은 계층적 클러스터링 과정을 기록한 나무 모양의 다이어그램입니다. Marsilea에서는 클러스터링이 히트맵에만 국한되지 않고 다양한 시각화에서 수행될 수 있습니다.\n",
    "\n",
    "여기서 주목할 점은 그룹의 순서와 그룹 내 순서가 클러스터링 결과에 따라 자동으로 변경된다는 것입니다."
   ]
  },
  {
   "cell_type": "code",
   "execution_count": null,
   "metadata": {},
   "outputs": [],
   "source": [
    "cb.add_dendrogram(\"bottom\", colors=\"g\")\n",
    "cb.render()"
   ]
  },
  {
   "cell_type": "markdown",
   "metadata": {},
   "source": [
    "## 하단 플롯 및 제목 추가\n",
    "\n",
    "우리는 메인 시각화에 더 많은 플롯을 추가할 수 있습니다. 여기서는 바 플롯을 하단에 추가하고 `add_title()`을 사용하여 맨 위에 제목을 추가합니다."
   ]
  },
  {
   "cell_type": "code",
   "execution_count": null,
   "metadata": {},
   "outputs": [],
   "source": [
    "cb.add_bottom(ma.plotter.Bar(data, color=\"#577D86\"), size=2, pad=0.1)\n",
    "cb.add_title(top=\"My First Marsilea Example\")\n",
    "cb.render()"
   ]
  },
  {
   "cell_type": "markdown",
   "metadata": {},
   "source": [
    "## 저장하기\n",
    "\n",
    "`save()`를 사용하여 파일로 저장할 수 있습니다.\n",
    "\n",
    "```python\n",
    "cb.save(\"my_first_marsilea_example.png\")\n",
    "```\n",
    "\n",
    "또는 모든 맷플롯립 그림을 저장하는 방식과 동일하게 저장할 수 있습니다. `.figure.`로 figure 객체에 액세스할 수 있습니다. 잘려나가는 것을 피하기 위해 `bbox_inches=\"tight\"` 모드로 저장하는 것이 권장됩니다. 또는 캔버스의 여백을 늘릴 수도 있습니다.\n",
    "\n",
    "```python\n",
    "cb.figure.savefig(\"my_first_marsilea_example.png\", bbox_inches=\"tight\")\n",
    "```\n",
    "\n",
    "## 요약\n",
    "\n",
    "`Marsilea`에서 시각화를 제어하는 데 사용할 수 있는 메서드 목록입니다.\n",
    "\n",
    "- 메인 레이어에 추가: `add_layer()`\n",
    "- 측면에 추가:\n",
    "  - 왼쪽: `add_left()`\n",
    "  - 오른쪽: `add_right()`\n",
    "  - 위쪽: `add_top()`\n",
    "  - 아래쪽: `add_bottom()`\n",
    "- 그룹화:\n",
    "  - 수직 그룹화: `hsplit()`\n",
    "  - 수평 그룹화: `vsplit()`\n",
    "- 덴드로그램 추가: `add_dendrogram()`\n",
    "- 제목 추가: `add_title()`\n",
    "- 범례 추가: `add_legends()`\n",
    "- 플롯 저장: `save()`"
   ]
  },
  {
   "cell_type": "markdown",
   "metadata": {},
   "source": [
    "# SeqLogo\n",
    "\n",
    "서열을 시각화하는 방법인 `SeqLogo` 그리기."
   ]
  },
  {
   "cell_type": "code",
   "execution_count": null,
   "metadata": {},
   "outputs": [],
   "source": [
    "from marsilea.plotter import SeqLogo\n",
    "\n",
    "matrix = pd.DataFrame(data=np.random.randint(1, 10, (4, 12)), index=list(\"ACGT\"))\n",
    "matrix"
   ]
  },
  {
   "cell_type": "code",
   "execution_count": null,
   "metadata": {},
   "outputs": [],
   "source": [
    "_, ax = plt.subplots()\n",
    "colors = {\"A\": \"r\", \"C\": \"b\", \"G\": \"g\", \"T\": \"black\"}\n",
    "SeqLogo(matrix, color_encode=colors).render(ax)"
   ]
  },
  {
   "cell_type": "markdown",
   "metadata": {},
   "source": [
    "# 서열 분석(Sequence Alignment)\n",
    "\n",
    "## 데이터 불러오기\n",
    "\n",
    "데이터를 불러와서 각 아미노산의 높이를 계산합니다. 관련 정보는 [위키](https://en.wikipedia.org/wiki/Sequence_logo)를 참조하세요."
   ]
  },
  {
   "cell_type": "code",
   "execution_count": null,
   "metadata": {},
   "outputs": [],
   "source": [
    "from collections import Counter\n",
    "\n",
    "seq = ma.load_data(\"seq_align\")\n",
    "seq = seq.iloc[:, 130:175]\n",
    "\n",
    "collect = []\n",
    "for _, col in seq.items():\n",
    "    collect.append(Counter(col))\n",
    "\n",
    "hm = pd.DataFrame(collect)\n",
    "del hm[\"-\"]\n",
    "hm = hm.T.fillna(0.0)\n",
    "hm.columns = seq.columns\n",
    "hm /= hm.sum(axis=0)\n",
    "\n",
    "n = hm.shape[1]\n",
    "s = 20\n",
    "En = (1 / np.log(2)) * ((s - 1) / (2 * n))\n",
    "\n",
    "heights = []\n",
    "for _, col in hm.items():\n",
    "    H = -(np.log2(col) * col).sum()\n",
    "    R = np.log2(20) - (H + En)\n",
    "    heights.append(col * R)\n",
    "\n",
    "logo = pd.DataFrame(heights).T\n",
    "logo.head()"
   ]
  },
  {
   "cell_type": "markdown",
   "metadata": {},
   "source": [
    "## 색상 팔레트 및 데이터 준비"
   ]
  },
  {
   "cell_type": "code",
   "execution_count": null,
   "metadata": {},
   "outputs": [],
   "source": [
    "color_encode = {\n",
    "    \"A\": \"#f76ab4\",\n",
    "    \"C\": \"#ff7f00\",\n",
    "    \"D\": \"#e41a1c\",\n",
    "    \"E\": \"#e41a1c\",\n",
    "    \"F\": \"#84380b\",\n",
    "    \"G\": \"#f76ab4\",\n",
    "    \"H\": \"#3c58e5\",\n",
    "    \"I\": \"#12ab0d\",\n",
    "    \"K\": \"#3c58e5\",\n",
    "    \"L\": \"#12ab0d\",\n",
    "    \"M\": \"#12ab0d\",\n",
    "    \"N\": \"#972aa8\",\n",
    "    \"P\": \"#12ab0d\",\n",
    "    \"Q\": \"#972aa8\",\n",
    "    \"R\": \"#3c58e5\",\n",
    "    \"S\": \"#ff7f00\",\n",
    "    \"T\": \"#ff7f00\",\n",
    "    \"V\": \"#12ab0d\",\n",
    "    \"W\": \"#84380b\",\n",
    "    \"Y\": \"#84380b\",\n",
    "    \"-\": \"white\",\n",
    "}\n",
    "\n",
    "max_aa = []\n",
    "freq = []\n",
    "\n",
    "for _, col in hm.items():\n",
    "    ix = np.argmax(col)\n",
    "    max_aa.append(hm.index[ix])\n",
    "    freq.append(col[ix])\n",
    "\n",
    "position = []\n",
    "mock_ticks = []\n",
    "for i in seq.columns:\n",
    "    if int(i) % 10 == 0:\n",
    "        position.append(i)\n",
    "        mock_ticks.append(\"^\")\n",
    "    else:\n",
    "        position.append(\"\")\n",
    "        mock_ticks.append(\"\")\n",
    "\n",
    "print(position)"
   ]
  },
  {
   "cell_type": "markdown",
   "metadata": {},
   "source": [
    "## 시각화"
   ]
  },
  {
   "cell_type": "code",
   "execution_count": null,
   "metadata": {},
   "outputs": [],
   "source": [
    "height = 2\n",
    "width = height * seq.shape[1] / seq.shape[0]\n",
    "\n",
    "ch = ma.CatHeatmap(seq.to_numpy(), palette=color_encode, height=height, width=width)\n",
    "ch.add_layer(ma.plotter.TextMesh(seq.to_numpy()))\n",
    "ch.add_top(ma.plotter.SeqLogo(logo, color_encode=color_encode), pad=0.1, size=2)\n",
    "ch.add_left(ma.plotter.Labels(seq.index), pad=0.1)\n",
    "ch.add_bottom(ma.plotter.Labels(mock_ticks, rotation=0), pad=0.1)\n",
    "ch.add_bottom(ma.plotter.Labels(position, rotation=0))\n",
    "ch.add_bottom(\n",
    "    ma.plotter.Numbers(freq, width=0.9, color=\"#FFB11B\", show_value=False),\n",
    "    name=\"freq_bar\",\n",
    "    size=2,\n",
    ")\n",
    "ch.add_bottom(ma.plotter.Labels(max_aa, rotation=0), pad=0.1)\n",
    "ch.render()\n",
    "\n",
    "ch.get_ax(\"freq_bar\").set_axis_off()"
   ]
  },
  {
   "cell_type": "markdown",
   "metadata": {},
   "source": [
    "# 레 미제라블 아크 다이어그램\n",
    "\n",
    "이 예제에서는 네트워크 데이터로 아크 다이어그램을 만드는 방법을 보여줍니다.\n",
    "\n",
    "## 데이터 불러오기"
   ]
  },
  {
   "cell_type": "code",
   "execution_count": null,
   "metadata": {},
   "outputs": [],
   "source": [
    "data = ma.load_data(\"les_miserables\")\n",
    "nodes = data[\"nodes\"]\n",
    "links = data[\"links\"]\n",
    "\n",
    "sizes = nodes[\"value\"].to_numpy().reshape(1, -1)\n",
    "colors = nodes[\"group\"].to_numpy().reshape(1, -1)\n",
    "data"
   ]
  },
  {
   "cell_type": "markdown",
   "metadata": {},
   "source": [
    "## 아크 다이어그램 그리기"
   ]
  },
  {
   "cell_type": "code",
   "execution_count": null,
   "metadata": {},
   "outputs": [],
   "source": [
    "palette = {\n",
    "    0: \"#3C486B\",\n",
    "    1: \"#F0F0F0\",\n",
    "    2: \"#F9D949\",\n",
    "    3: \"#F45050\",\n",
    "    4: \"#F2E3DB\",\n",
    "    5: \"#41644A\",\n",
    "    6: \"#E86A33\",\n",
    "    7: \"#009FBD\",\n",
    "    8: \"#77037B\",\n",
    "    9: \"#4F4557\",\n",
    "    10: \"#B0DAFF\",\n",
    "}\n",
    "\n",
    "link_colors = [palette[nodes.iloc[i].group] for i in links[\"source\"]]\n",
    "\n",
    "height = 0.5\n",
    "width = height * len(nodes) / 3\n",
    "\n",
    "sh = ma.SizedHeatmap(\n",
    "    sizes,\n",
    "    colors,\n",
    "    palette=palette,\n",
    "    sizes=(10, 200),\n",
    "    frameon=False,\n",
    "    height=height,\n",
    "    width=width,\n",
    ")\n",
    "sh.add_bottom(mp.Labels(nodes[\"name\"], fontsize=8))\n",
    "arc = mp.Arc(nodes.index, links.to_numpy(), colors=link_colors, lw=0.5, alpha=0.5)\n",
    "sh.add_top(arc, size=3)\n",
    "sh.add_title(top=\"Character relationships in Les Miserables\", align=\"right\", fontstyle=\"italic\")\n",
    "sh.render()"
   ]
  },
  {
   "cell_type": "markdown",
   "metadata": {},
   "source": [
    "# 마우스 배아(Mouse Embryo)\n",
    "\n",
    "마우스 배아의 세포 지도를 그리는 방법입니다.\n",
    "\n",
    "## 데이터셋 불러오기 및 전처리"
   ]
  },
  {
   "cell_type": "code",
   "execution_count": null,
   "metadata": {},
   "outputs": [],
   "source": [
    "from legendkit import cat_legend\n",
    "from matplotlib.colors import LinearSegmentedColormap\n",
    "\n",
    "embryo = ma.load_data(\"mouse_embryo\")\n",
    "\n",
    "xmax = embryo[\"cell_x\"].max()\n",
    "ymax = embryo[\"cell_y\"].max()\n",
    "xstart, xend = -xmax * 0.05, xmax * 1.05\n",
    "ystart, yend = -ymax * 0.05, ymax * 1.05\n",
    "\n",
    "xrange = np.linspace(xstart, xend, 200)\n",
    "yrange = np.linspace(ystart, yend, 200)\n",
    "\n",
    "xmid = (xrange[1:] + xrange[:-1]) / 2\n",
    "ymid = (yrange[1:] + yrange[:-1]) / 2\n",
    "\n",
    "\n",
    "def get_xy_hist(ct):\n",
    "    x = embryo[embryo[\"cell_type\"] == ct][\"cell_x\"].to_numpy()\n",
    "    y = embryo[embryo[\"cell_type\"] == ct][\"cell_y\"].to_numpy()\n",
    "    xhist, _ = np.histogram(x, bins=xrange)\n",
    "    yhist, _ = np.histogram(y, bins=yrange)\n",
    "    return xhist, yhist\n",
    "\n",
    "\n",
    "embryo"
   ]
  },
  {
   "cell_type": "markdown",
   "metadata": {},
   "source": [
    "각 세포 유형에 대한 색상을 지정하고 시각화합니다."
   ]
  },
  {
   "cell_type": "code",
   "execution_count": null,
   "metadata": {},
   "outputs": [],
   "source": [
    "colormap = {\n",
    "    \"Cavity\": \"#6d32e6\",\n",
    "    \"Brain\": \"#bf024f\",\n",
    "    \"Meninges\": \"#d147a3\",\n",
    "    \"Choroid plexus\": \"#b3a726\",\n",
    "    \"Cartilage primordium\": \"#103a14\",\n",
    "    \"Jaw and tooth\": \"#ef833a\",\n",
    "    \"Connective tissue\": \"#b38b5c\",\n",
    "    \"Epidermis\": \"#35586d\",\n",
    "    \"Lung primordium\": \"#3cb44b\",\n",
    "    \"Sympathetic nerve\": \"#dfdce0\",\n",
    "    \"Liver\": \"#bd3add\",\n",
    "    \"Mucosal epithelium\": \"#0bd3b1\",\n",
    "    \"GI tract\": \"#ff4374\",\n",
    "    \"Mesentery\": \"#b74c11\",\n",
    "    \"Dorsal root ganglion\": \"#036df4\",\n",
    "    \"Muscle\": \"#dd7936\",\n",
    "    \"Mesothelium\": \"#5c5ca6\",\n",
    "    \"Blood vessel\": \"#be9b72\",\n",
    "    \"Urogenital ridge\": \"#d3245a\",\n",
    "    \"Heart\": \"#03fff4\",\n",
    "    \"Pancreas\": \"#f062f9\",\n",
    "    \"Kidney\": \"#62cfe8\",\n",
    "    \"Ovary\": \"#c923b1\",\n",
    "}\n",
    "\n",
    "width = 5\n",
    "height = width * (yend - ystart) / (xend - xstart)\n",
    "b = ma.WhiteBoard(height=height, width=width)\n",
    "\n",
    "cell_types = [\"Brain\", \"Cartilage primordium\", \"Liver\", \"Heart\", \"GI tract\"]\n",
    "for n in cell_types:\n",
    "    b.add_canvas(\"bottom\", size=0.2, pad=0.1, name=f\"{n}-x\")\n",
    "    b.add_canvas(\"right\", size=0.2, pad=0.1, name=f\"{n}-y\")\n",
    "b.render()\n",
    "\n",
    "# Draw cell\n",
    "ax = b.get_main_ax()\n",
    "points = ax.scatter(embryo[\"cell_x\"], embryo[\"cell_y\"], s=1, c=embryo[\"colors\"])\n",
    "points.set_rasterized(True)\n",
    "ax.set_xlim(xstart, xend)\n",
    "ax.set_ylim(ystart, yend)\n",
    "ax.set_title(\"Mouse Embryo E12.5\")\n",
    "ax.set_axis_off()\n",
    "\n",
    "colors = list(colormap.values())\n",
    "labels = list(colormap.keys())\n",
    "cat_legend(colors=colors, labels=labels, ax=ax, loc=\"out left center\", fontsize=10)\n",
    "\n",
    "for n in cell_types:\n",
    "    xh, yh = get_xy_hist(n)\n",
    "    cmap = LinearSegmentedColormap.from_list(n, [\"white\", colormap[n]])\n",
    "    x_ax = b.get_ax(f\"{n}-x\")\n",
    "    x_ax.pcolormesh(xh.reshape(1, -1), cmap=cmap)\n",
    "    x_ax.set_axis_off()\n",
    "    x_ax.text(0, 0.5, n, va=\"center\", ha=\"right\", transform=x_ax.transAxes)\n",
    "\n",
    "    y_ax = b.get_ax(f\"{n}-y\")\n",
    "    y_ax.pcolormesh(yh.reshape(-1, 1), cmap=cmap)\n",
    "    y_ax.set_axis_off()\n",
    "    y_ax.text(0.5, 0, n, va=\"top\", ha=\"center\", rotation=90, transform=y_ax.transAxes)"
   ]
  },
  {
   "cell_type": "markdown",
   "metadata": {},
   "source": [
    "# Single-cell RNA-seq 시각화\n",
    "\n",
    "\n",
    "`pbmc3k` 데이터를 가지고 간단한 시각화를 해봅니다."
   ]
  },
  {
   "cell_type": "code",
   "execution_count": null,
   "metadata": {},
   "outputs": [],
   "source": [
    "from matplotlib.colors import Normalize\n",
    "from sklearn.preprocessing import normalize\n",
    "\n",
    "pbmc3k = ma.load_data(\"pbmc3k\")\n",
    "exp = pbmc3k[\"exp\"]\n",
    "pct_cells = pbmc3k[\"pct_cells\"]\n",
    "count = pbmc3k[\"count\"]\n",
    "\n",
    "matrix = normalize(exp.to_numpy(), axis=0)\n",
    "\n",
    "cell_cat = [\n",
    "    \"Lymphoid\",\n",
    "    \"Myeloid\",\n",
    "    \"Lymphoid\",\n",
    "    \"Lymphoid\",\n",
    "    \"Lymphoid\",\n",
    "    \"Myeloid\",\n",
    "    \"Myeloid\",\n",
    "    \"Myeloid\",\n",
    "]\n",
    "cell_names = [\n",
    "    \"CD4 T\",\n",
    "    \"CD14\\nMonocytes\",\n",
    "    \"B\",\n",
    "    \"CD8 T\",\n",
    "    \"NK\",\n",
    "    \"FCGR3A\\nMonocytes\",\n",
    "    \"Dendritic\",\n",
    "    \"Megakaryocytes\",\n",
    "]\n",
    "pct_cells"
   ]
  },
  {
   "cell_type": "code",
   "execution_count": null,
   "metadata": {},
   "outputs": [],
   "source": [
    "# Make plots\n",
    "cells_proportion = mp.SizedMesh(\n",
    "    pct_cells,\n",
    "    size_norm=Normalize(vmin=0, vmax=100),\n",
    "    color=\"none\",\n",
    "    edgecolor=\"#6E75A4\",\n",
    "    linewidth=2,\n",
    "    sizes=(1, 600),\n",
    "    size_legend_kws={\"title\": \"% of cells\", \"show_at\": [0.3, 0.5, 0.8, 1]},\n",
    ")\n",
    "mark_high = mp.MarkerMesh(matrix > 0.7, color=\"yellow\", label=\"High\")\n",
    "cell_count = mp.Numbers(count[\"Value\"], color=\"#fac858\", label=\"Cell Count\")\n",
    "cell_exp = mp.Violin(exp, label=\"Expression\", linewidth=0, color=\"#ee6666\", density_norm=\"count\")\n",
    "cell_types = mp.Labels(cell_names, align=\"center\")\n",
    "gene_names = mp.Labels(exp.columns)\n",
    "\n",
    "# Group plots together\n",
    "h = ma.Heatmap(matrix, cmap=\"Reds\", label=\"Normalized\\nExpression\", width=4.5, height=5.5)\n",
    "h.add_layer(cells_proportion)\n",
    "# h.add_layer(mark_high)\n",
    "h.add_right(cell_count, pad=0.1, size=0.7)\n",
    "h.add_top(cell_exp, pad=0.1, size=0.75, name=\"exp\")\n",
    "h.add_left(cell_types)\n",
    "h.add_bottom(gene_names)\n",
    "\n",
    "h.hsplit(labels=cell_cat, order=[\"Lymphoid\", \"Myeloid\"])\n",
    "h.add_left(mp.Chunk([\"Lymphoid\", \"Myeloid\"], [\"#33A6B8\", \"#B481BB\"]), pad=0.05)\n",
    "h.add_dendrogram(\"left\", colors=[\"#33A6B8\", \"#B481BB\"])\n",
    "h.add_dendrogram(\"bottom\")\n",
    "h.add_legends(\"right\", align_stacks=\"center\", align_legends=\"top\", pad=0.2)\n",
    "h.set_margin(0.2)\n",
    "h.render()"
   ]
  },
  {
   "cell_type": "markdown",
   "metadata": {},
   "source": [
    "# 나가며\n",
    "\n",
    "`Marsilea`는 `Matplotlib`을 기반으로 복잡하고 다양한 시각화를 할 수 있는 편리한 API를 제공합니다. 그러나 아직 베타 단계(현재 버전은 0.3.5)임으로 여기서 사용된 `API`가 변경되거나 알수없는 버그가 발생할 수 있습니다."
   ]
  }
 ],
 "metadata": {
  "kernelspec": {
   "display_name": "Python 3",
   "language": "python",
   "name": "python3"
  },
  "language_info": {
   "codemirror_mode": {
    "name": "ipython",
    "version": 3
   },
   "file_extension": ".py",
   "mimetype": "text/x-python",
   "name": "python",
   "nbconvert_exporter": "python",
   "pygments_lexer": "ipython3",
   "version": "3.12.2"
  }
 },
 "nbformat": 4,
 "nbformat_minor": 2
}
