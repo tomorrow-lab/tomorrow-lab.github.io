{
 "cells": [
  {
   "cell_type": "raw",
   "id": "c047d7ab",
   "metadata": {
    "vscode": {
     "languageId": "raw"
    }
   },
   "source": [
    "---\n",
    "title: \"OpenCV를 사용해 이미지에서 세포 수 측정\"\n",
    "author: \"Taeyoon Kim\"\n",
    "categories: [Python, OpenCV]\n",
    "draft: false\n",
    "date: \"2025-03-22\"\n",
    "date-modified: last-modified\n",
    "---\n"
   ]
  },
  {
   "cell_type": "markdown",
   "id": "6d6ed6aa",
   "metadata": {},
   "source": [
    "생물학 실험에서 이미지에서 세포 수를 측정 작업은 매우 흔한 일입니다. 일반적으로는 이미지를 촬영하는 장비에 자동으로 세포 수를 측적하는 소프트웨어가 같이 제공되고 있습니다. 그러나 가끔은 수동으로 세포의 수를 측정해야하는 경우가 생기곤 합니다. 그런 작업은 시간과 노력이 많이 들고 결과를 신뢰하기 어렵습니다.\n",
    "\n",
    "이런 문제를 해결하기 위해 이번 글에서는 오픈소스 컴퓨터 비전 라이브러리인 `OpenCV`를 사용해 이미지를 분석하고 세포 수를 자동으로 측정하는 방법을 소개합니다. `OpenCV`는 강력하고 유연한 이미지 처리 라이브러리이며 세포 수 계수 외에도 다양한 생물학적 이미지 분석에 활용될 수 있습니다.\n",
    "\n",
    "# 사용된 코드"
   ]
  },
  {
   "cell_type": "code",
   "execution_count": null,
   "id": "ec1011af-8e2b-424d-a8d8-d4c37b7db8b2",
   "metadata": {},
   "outputs": [],
   "source": [
    "import cv2\n",
    "import matplotlib.pyplot as plt\n",
    "import numpy as np\n",
    "\n",
    "\n",
    "def process_image(image_path):\n",
    "    # 이미지 읽기 및 전처리\n",
    "    original_im = cv2.imread(image_path, cv2.IMREAD_GRAYSCALE)\n",
    "\n",
    "    # 중간값 필터 적용 (노이즈 제거) 및 배경 추정\n",
    "    im = cv2.medianBlur(original_im, ksize=3)\n",
    "    bg = cv2.medianBlur(im, ksize=101)\n",
    "\n",
    "    # 배경 제거 및 신호 정규화\n",
    "    signal = cv2.subtract(im, bg)\n",
    "    signal = cv2.normalize(signal, None, 0, 255, cv2.NORM_MINMAX, dtype=cv2.CV_8U)\n",
    "\n",
    "    # 가우시안 블러 적용 및 마스크 생성\n",
    "    smooth = cv2.GaussianBlur(signal, (0, 0), sigmaX=2)\n",
    "    valmask = smooth > 24\n",
    "    peakmask = smooth == cv2.dilate(smooth, None, iterations=20)\n",
    "\n",
    "    # 블롭 처리\n",
    "    blobs = (valmask & peakmask).astype(np.uint8) * 255\n",
    "    kernel = cv2.getStructuringElement(cv2.MORPH_ELLIPSE, (11, 11))\n",
    "    blobs = cv2.morphologyEx(blobs, cv2.MORPH_DILATE, kernel)\n",
    "\n",
    "    # 연결된 컴포넌트 분석\n",
    "    nlabels, _, _, centroids = cv2.connectedComponentsWithStats(blobs)\n",
    "\n",
    "    return original_im, signal, centroids, nlabels - 1\n",
    "\n",
    "\n",
    "def visualize_results(original, processed, centroids):\n",
    "    fig, (ax1, ax2) = plt.subplots(1, 2, figsize=(12, 6))\n",
    "\n",
    "    ax1.imshow(original, cmap=\"gray\")\n",
    "    ax1.set_title(\"Original Image\")\n",
    "    ax1.axis(\"off\")\n",
    "\n",
    "    ax2.imshow(processed, cmap=\"gray\")\n",
    "    ax2.set_title(\"Processed Image\")\n",
    "    ax2.axis(\"off\")\n",
    "\n",
    "    for pt in centroids[1:]:\n",
    "        ax2.add_artist(plt.Circle(pt, 20, fill=False, color=\"lime\", linewidth=1))\n",
    "\n",
    "    plt.tight_layout()\n",
    "    plt.show()\n",
    "\n",
    "\n",
    "# 메인 실행 부분\n",
    "image_path = \"../data/input/cell_0.png\"\n",
    "original, processed, centroids, cell_count = process_image(image_path)\n",
    "print(f\"총 {cell_count}개 세포 확인.\")\n",
    "visualize_results(original, processed, centroids)"
   ]
  },
  {
   "cell_type": "markdown",
   "id": "15827803",
   "metadata": {},
   "source": [
    "다른 이미지에 위의 코드를 다시 사용해보겠습니다. "
   ]
  },
  {
   "cell_type": "code",
   "execution_count": null,
   "id": "ce869b8d-3628-45aa-b92a-98cecb6be352",
   "metadata": {},
   "outputs": [],
   "source": [
    "# 다른 이미지\n",
    "image_path = \"../data/input/cell_2.png\"\n",
    "original, processed, centroids, cell_count = process_image(image_path)\n",
    "print(f\"총 {cell_count}개 세포 확인.\")\n",
    "visualize_results(original, processed, centroids)"
   ]
  },
  {
   "cell_type": "markdown",
   "id": "28b9654e",
   "metadata": {},
   "source": [
    "이번 글에서는 `OpenCV`를 사용하여 이미지를 분석하고 세포 수를 측정 하는 방법에 대해 설명했습니다. 다만 위에 제시된 방법은 다양한 종류의 세포 이미지에 적용 가능하지 않습니다. 위의 코드는 특정 세포 이미지에 맞춰 최적화된 결과입니다. 따라서 다른 종류의 세포 이미지나 촬영 조건이 다른 이미지에 동일한 코드를 적용할 경우 코드의 파라미터를 조정하거나 전처리 과정을 필요할 수 있습니다.\n",
    "\n",
    "그러니 더 효율적이고 정확한 세포 수 측정을 위해서는 [NeurIPS 2022 세포 분할 챌린지](https://neurips22-cellseg.grand-challenge.org/) 최종 우승 소프트웨어인 [celldetection](https://github.com/FZJ-INM1-BDA/celldetection)를 사용해보시길 권장합니다.\n",
    "\n",
    "# Reference\n",
    "\n",
    "- [이미지 출처](https://stackoverflow.com/questions/72755474/counting-cells-with-opencv)\n",
    "\n"
   ]
  }
 ],
 "metadata": {
  "kernelspec": {
   "display_name": "Python 3 (ipykernel)",
   "language": "python",
   "name": "python3"
  },
  "language_info": {
   "codemirror_mode": {
    "name": "ipython",
    "version": 3
   },
   "file_extension": ".py",
   "mimetype": "text/x-python",
   "name": "python",
   "nbconvert_exporter": "python",
   "pygments_lexer": "ipython3",
   "version": "3.12.9"
  }
 },
 "nbformat": 4,
 "nbformat_minor": 5
}
