{
 "cells": [
  {
   "cell_type": "raw",
   "metadata": {
    "vscode": {
     "languageId": "raw"
    }
   },
   "source": [
    "---\n",
    "title: \"파이썬으로 통계 분석하기\"\n",
    "author: \"Taeyoon Kim\"\n",
    "categories: [Python, Data science, Statistics, T-test, ANOVA]\n",
    "draft: false\n",
    "date: \"2023-01-23\"\n",
    "date-modified: last-modified\n",
    "---\n"
   ]
  },
  {
   "cell_type": "markdown",
   "metadata": {},
   "source": [
    "\n",
    "`Pingouin`은 **간단하지만 완전한 통계 기능**를 위해 설계되었습니다. 예를 들어 기존의 SciPy 패키지의 `ttest_ind` 함수는 `T-value`과 `p-value`만 알려주지만 Pingouin의 `ttest` 함수는 `T-value`, `p-value`뿐만 아니라 자유도, 효과 크기(Cohen 's d), 95% 신뢰 구간, 통계적 검정력등을 동시에 출력합니다. 아래의 목록은 할 수 있는 대표적인 분석입니다. \n",
    "\n",
    "1. 분산 분석(ANOVAs): N-ways, repeated measures, mixed, ancova\n",
    "2. Pairwise 사후 검정(post-hocs tests), pairwise 상관관계\n",
    "3. 견고한(Robust), 부분(partial), 거리(distance), 반복 측정 상관관계\n",
    "4. 선형(Linear) 회귀, 로지스틱(logistic) 회귀, 매개(mediation) 분석\n",
    "5. 베이즈 인자(Bayes factor)\n",
    "6. 다변량(Multivariate) 테스트\n",
    "7. 신뢰성과 일관성 검정\n",
    "8. 효과 크기 및 검정력 분석\n",
    "9. 효과 크기 또는 상관 계수의 모수(Parametric) 혹은 부트스트랩(bootstrapped) 신뢰구간 \n",
    "10. 순환(Circular) 통계\n",
    "11. 카이제곱 검정(chi-squared test)\n",
    "12. Bland-Altman plot, Q-Q plot, paired plot, robust correlation 시각화\n",
    "\n",
    "더 자세한 것은 [공식 홈페이지](https://pingouin-stats.org/)를 참고하세요.\n",
    "\n",
    "\n",
    "# 설치하기\n",
    "\n",
    "```bash\n",
    "conda install -c conda-forge pingouin\n",
    "```\n",
    "\n",
    "아직 Pingouin은 개발 중에 있으며 버그 수정을 위해 새로운 버전이 계속 배포되고 있습니다(한 달에 약 1 회). 그러니 항상 최신 버전의 Pingouin을 사용하고 있는지 확인하세요. 자세한 내용은 [Pingouin 공식 페이지](https://pingouin-stats.org/)을 참고하세요.\n",
    "\n",
    "\n",
    "# 예제 살펴보기\n",
    "\n",
    "먼저 필요한 패키지를 불러옵니다."
   ]
  },
  {
   "cell_type": "code",
   "execution_count": null,
   "metadata": {},
   "outputs": [],
   "source": [
    "import numpy as np\n",
    "import pingouin as pg\n",
    "\n",
    "np.random.seed(42)"
   ]
  },
  {
   "cell_type": "markdown",
   "metadata": {},
   "source": [
    "## One-sample T-test\n",
    "\n",
    "- 모집단의 평균은 `4`로 가정"
   ]
  },
  {
   "cell_type": "code",
   "execution_count": null,
   "metadata": {},
   "outputs": [],
   "source": [
    "mu = 4\n",
    "x = [5.5, 2.4, 6.8, 9.6, 4.2]\n",
    "pg.ttest(x, mu)"
   ]
  },
  {
   "cell_type": "markdown",
   "metadata": {},
   "source": [
    "자유도(dof)는 4, `T-value`(T)는 1.3973 이며 `p-Value`가 일반적인 기준(0.05) 이상이기 때문에 표본 `x`의 평균은 모집단의 평균과 차이가 없다(귀무가설)고 볼 수 있다.\n",
    "\n",
    "\n",
    "## Paired T-test\n",
    "\n",
    "꼬리를 `one-sided`로 설정하면 pingouin이 알아서 꼬리의 방향을 알려줍니다. 아래 코드의 경우 `T-value`가 음수이기 때문에 꼬리의 방향이 `less`로 표현됩니다."
   ]
  },
  {
   "cell_type": "code",
   "execution_count": null,
   "metadata": {},
   "outputs": [],
   "source": [
    "pre = [5.5, 2.4, 6.8, 9.6, 4.2]\n",
    "post = [6.4, 3.4, 6.4, 11.0, 4.8]\n",
    "pg.ttest(pre, post, paired=True, tail=\"one-sided\")"
   ]
  },
  {
   "cell_type": "markdown",
   "metadata": {},
   "source": [
    "꼬리의 방향이 `less`라는 것은 표본 `x`의 평균이 표본 `y`의 평균보다 작다는 것을 뜻합니다.\n",
    "\n",
    "일부러 꼬리의 방향을 반대(`greater`)로 한 대립 가설을 확인해 봅니다.\n"
   ]
  },
  {
   "cell_type": "code",
   "execution_count": null,
   "metadata": {},
   "outputs": [],
   "source": [
    "pg.ttest(pre, post, paired=True, tail=\"greater\")"
   ]
  },
  {
   "cell_type": "markdown",
   "metadata": {},
   "source": [
    "`p-value`가 엉망인것을 알 수 있습니다.\n",
    "\n",
    "\n",
    "## Two-sample T-test\n",
    "\n",
    "### 표본 크기가 같은 경우"
   ]
  },
  {
   "cell_type": "code",
   "execution_count": null,
   "metadata": {},
   "outputs": [],
   "source": [
    "x = np.random.normal(loc=7, size=20)\n",
    "y = np.random.normal(loc=4, size=20)\n",
    "pg.ttest(x, y, correction=\"auto\")"
   ]
  },
  {
   "cell_type": "markdown",
   "metadata": {},
   "source": [
    "### 표본 크기가 다른경우"
   ]
  },
  {
   "cell_type": "code",
   "execution_count": null,
   "metadata": {},
   "outputs": [],
   "source": [
    "x = np.random.normal(loc=7, size=20)\n",
    "y = np.random.normal(loc=4, size=15)\n",
    "pg.ttest(x, y, correction=\"auto\")"
   ]
  },
  {
   "cell_type": "markdown",
   "metadata": {},
   "source": [
    "## Pearson’s correlation"
   ]
  },
  {
   "cell_type": "code",
   "execution_count": null,
   "metadata": {},
   "outputs": [],
   "source": [
    "mean, cov, n = [4, 5], [(1, 0.6), (0.6, 1)], 30\n",
    "x, y = np.random.multivariate_normal(mean, cov, n).T\n",
    "pg.corr(x, y)"
   ]
  },
  {
   "cell_type": "markdown",
   "metadata": {},
   "source": [
    "## Robust correlation\n"
   ]
  },
  {
   "cell_type": "code",
   "execution_count": null,
   "metadata": {},
   "outputs": [],
   "source": [
    "# 표본 x에 아웃라이어 추가\n",
    "x[5] = 18\n",
    "# Use the robust Shepherd's pi correlation\n",
    "pg.corr(x, y, method=\"shepherd\")"
   ]
  },
  {
   "cell_type": "markdown",
   "metadata": {},
   "source": [
    "## 데이터의 정규성 테스트\n",
    "\n",
    "`pingouin.normality()`함수를 pandas의 데이터 프레임형식에 사용할 수 있습니다."
   ]
  },
  {
   "cell_type": "code",
   "execution_count": null,
   "metadata": {},
   "outputs": [],
   "source": [
    "# 일변량 정규성(Univariate normality)\n",
    "pg.normality(x)"
   ]
  },
  {
   "cell_type": "code",
   "execution_count": null,
   "metadata": {},
   "outputs": [],
   "source": [
    "# 다변량 정규성(Multivariate normality)\n",
    "pg.multivariate_normality(np.column_stack((x, y)))"
   ]
  },
  {
   "cell_type": "markdown",
   "metadata": {},
   "source": [
    "## Q-Q plot 시각화\n"
   ]
  },
  {
   "cell_type": "code",
   "execution_count": null,
   "metadata": {},
   "outputs": [],
   "source": [
    "x = np.random.normal(size=50)\n",
    "ax = pg.qqplot(x, dist=\"norm\")"
   ]
  },
  {
   "cell_type": "markdown",
   "metadata": {},
   "source": [
    "## One-way ANOVA\n",
    "\n",
    "기본 내장되어 있는 데이터프레임(`mixed_anova`)을 사용합니다."
   ]
  },
  {
   "cell_type": "code",
   "execution_count": null,
   "metadata": {},
   "outputs": [],
   "source": [
    "# Read an example dataset\n",
    "df = pg.read_dataset(\"mixed_anova\")\n",
    "df.tail()"
   ]
  },
  {
   "cell_type": "code",
   "execution_count": null,
   "metadata": {},
   "outputs": [],
   "source": [
    "# Run the ANOVA\n",
    "aov = pg.anova(data=df, dv=\"Scores\", between=\"Group\", detailed=True)\n",
    "aov"
   ]
  },
  {
   "cell_type": "markdown",
   "metadata": {},
   "source": [
    "## Repeated measures ANOVA"
   ]
  },
  {
   "cell_type": "code",
   "execution_count": null,
   "metadata": {},
   "outputs": [],
   "source": [
    "pg.rm_anova(data=df, dv=\"Scores\", within=\"Time\", subject=\"Subject\", detailed=True)"
   ]
  },
  {
   "cell_type": "markdown",
   "metadata": {},
   "source": [
    "## Post-hoc tests corrected for multiple-comparisons"
   ]
  },
  {
   "cell_type": "code",
   "execution_count": null,
   "metadata": {},
   "outputs": [],
   "source": [
    "# FDR-corrected post hocs with Hedges'g effect size\n",
    "posthoc = pg.pairwise_ttests(\n",
    "    data=df,\n",
    "    dv=\"Scores\",\n",
    "    within=\"Time\",\n",
    "    subject=\"Subject\",\n",
    "    parametric=True,\n",
    "    padjust=\"fdr_bh\",\n",
    "    effsize=\"hedges\",\n",
    ")\n",
    "\n",
    "posthoc"
   ]
  },
  {
   "cell_type": "markdown",
   "metadata": {},
   "source": [
    "## Two-way mixed ANOVA\n",
    "\n"
   ]
  },
  {
   "cell_type": "code",
   "execution_count": null,
   "metadata": {},
   "outputs": [],
   "source": [
    "# Compute the two-way mixed ANOVA and export to a .csv file\n",
    "aov = pg.mixed_anova(\n",
    "    data=df,\n",
    "    dv=\"Scores\",\n",
    "    between=\"Group\",\n",
    "    within=\"Time\",\n",
    "    subject=\"Subject\",\n",
    "    correction=False,\n",
    "    effsize=\"np2\",\n",
    ")\n",
    "aov"
   ]
  },
  {
   "cell_type": "markdown",
   "metadata": {},
   "source": [
    "## Bland-Altman plot"
   ]
  },
  {
   "cell_type": "code",
   "execution_count": null,
   "metadata": {},
   "outputs": [],
   "source": [
    "mean, cov = [10, 11], [[1, 0.8], [0.8, 1]]\n",
    "x, y = np.random.multivariate_normal(mean, cov, 30).T\n",
    "ax = pg.plot_blandaltman(x, y)"
   ]
  },
  {
   "cell_type": "markdown",
   "metadata": {},
   "source": [
    "## paired T-test 검정력 시각화\n",
    "\n",
    "T-검정의 표본 크기와 효과 크기(Cohen'd)에 따른 검정력 곡선을 시각화합니다."
   ]
  },
  {
   "cell_type": "code",
   "execution_count": null,
   "metadata": {},
   "outputs": [],
   "source": [
    "import matplotlib.pyplot as plt\n",
    "import seaborn as sns\n",
    "\n",
    "sns.set(style=\"ticks\", context=\"notebook\", font_scale=1.2)\n",
    "d = 0.5  # Fixed effect size\n",
    "n = np.arange(5, 80, 5)  # Incrementing sample size\n",
    "# Compute the achieved power\n",
    "pwr = pg.power_ttest(d=d, n=n, contrast=\"paired\", tail=\"two-sided\")\n",
    "plt.plot(n, pwr, \"ko-.\")\n",
    "plt.axhline(0.8, color=\"r\", ls=\":\")\n",
    "plt.xlabel(\"Sample size\")\n",
    "plt.ylabel(\"Power (1 - type II error)\")\n",
    "plt.title(\"Achieved power of a paired T-test\")\n",
    "sns.despine()"
   ]
  },
  {
   "cell_type": "markdown",
   "metadata": {},
   "source": [
    "## Paired plot\n",
    "\n",
    "`mixed_anova`데이터셋을 가지고 명상이 학교 성적에 미치는 영향에 대한 시각화를 해본다."
   ]
  },
  {
   "cell_type": "code",
   "execution_count": null,
   "metadata": {},
   "outputs": [],
   "source": [
    "df = pg.read_dataset(\"mixed_anova\").query(\"Group == 'Meditation' and Time != 'January'\")\n",
    "\n",
    "pg.plot_paired(data=df, dv=\"Scores\", within=\"Time\", subject=\"Subject\")"
   ]
  },
  {
   "cell_type": "markdown",
   "metadata": {},
   "source": [
    "# 마치며\n",
    "\n",
    "파이썬을 사용한 통계 분석은 `R`언어에 비해 사용법과 기능이 부족했습니다. 그렇기 때문에 `pingouin`의 등장이 반갑습니다. 아직 초기 버전이지만 기존에 존재했던 통계 분석 패키지들을 뛰어 넘는 성능과 완성도를 보여주고 있어 앞으로의 발전이 기대 됩니다."
   ]
  }
 ],
 "metadata": {
  "kernelspec": {
   "display_name": "Python 3",
   "language": "python",
   "name": "python3"
  },
  "language_info": {
   "codemirror_mode": {
    "name": "ipython",
    "version": 3
   },
   "file_extension": ".py",
   "mimetype": "text/x-python",
   "name": "python",
   "nbconvert_exporter": "python",
   "pygments_lexer": "ipython3",
   "version": "3.7.7"
  },
  "nikola": {
   "category": "python",
   "date": "2020-07-20 22:17:04 UTC+09:00",
   "description": "파이썬으로 하는 통계분석",
   "link": "",
   "slug": "pingouin",
   "tags": [
    "statstics",
    "Python",
    "Pingouin",
    "통계분석"
   ],
   "title": "10분안에 배우는 Pingouin",
   "type": "text"
  }
 },
 "nbformat": 4,
 "nbformat_minor": 4
}
